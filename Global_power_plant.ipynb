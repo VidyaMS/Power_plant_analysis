{
 "cells": [
  {
   "cell_type": "markdown",
   "metadata": {},
   "source": [
    "This data is downloaded from : http://datasets.wri.org/dataset/globalpowerplantdatabase."
   ]
  },
  {
   "cell_type": "markdown",
   "metadata": {},
   "source": [
    "It is an attempt to analyse power plants around the world , to understand the demand and supply of power by country . Also its an attempt to see how many countries are having a hybrid model of power generation where in there is a mix of renewable and non-renewable resources. "
   ]
  },
  {
   "cell_type": "markdown",
   "metadata": {},
   "source": [
    "The data consists of 28K odd records of power plant distribution in 164 countries along wih their latitude and longitude location. \n",
    "Each plant's capacity in MW , type of fuel used in the generation is also mentioned .All of them have atleast one fuel type mentioned.There are a combination of four type of fuels , however first fuel is always specified and not many have the other three fuels. There are 12 different fuel types ranging from non-renewable types such as coal , gas as well as renewables such as hydro , wind, solar etc .  Commissioning year and year_of_capacity data are not completely provided(50%). Hence we may not be able to do analysis based on those dates. "
   ]
  },
  {
   "cell_type": "markdown",
   "metadata": {},
   "source": [
    "Questions to be asked :\n",
    "1. Which fuel type has the largest power generation capacity ?\n",
    "2. Country wise largest power generation capacity and by fuel type ? \n",
    "3. Country wise percentage of power generation by renewables to non renewables ? Which are the leading and lagging countries in the use of renewables ? \n",
    "4. Which country has the largest number of power plants under the renewable group as well as non - renewable group ? \n",
    "\n",
    "5. How do the number of plants vary for every fuel type ?\n",
    "6. How do the estimation of power generation vary with the actual capacity ? \n"
   ]
  },
  {
   "cell_type": "code",
   "execution_count": 1,
   "metadata": {
    "collapsed": true
   },
   "outputs": [],
   "source": [
    "import pandas as pd \n",
    "import matplotlib.pyplot as plt\n",
    "%matplotlib inline"
   ]
  },
  {
   "cell_type": "code",
   "execution_count": 2,
   "metadata": {
    "collapsed": true
   },
   "outputs": [],
   "source": [
    "power_plant = pd.read_csv('global_power_plant_database.csv')"
   ]
  },
  {
   "cell_type": "code",
   "execution_count": 74,
   "metadata": {},
   "outputs": [
    {
     "data": {
      "text/plain": [
       "(28664, 22)"
      ]
     },
     "execution_count": 74,
     "metadata": {},
     "output_type": "execute_result"
    }
   ],
   "source": [
    "power_plant.shape"
   ]
  },
  {
   "cell_type": "code",
   "execution_count": 75,
   "metadata": {},
   "outputs": [
    {
     "name": "stdout",
     "output_type": "stream",
     "text": [
      "<class 'pandas.core.frame.DataFrame'>\n",
      "RangeIndex: 28664 entries, 0 to 28663\n",
      "Data columns (total 22 columns):\n",
      "country                     28664 non-null object\n",
      "country_long                28664 non-null object\n",
      "name                        28644 non-null object\n",
      "gppd_idnr                   28664 non-null object\n",
      "capacity_mw                 28664 non-null float64\n",
      "latitude                    28664 non-null float64\n",
      "longitude                   28664 non-null float64\n",
      "fuel1                       28661 non-null object\n",
      "fuel2                       1705 non-null object\n",
      "fuel3                       296 non-null object\n",
      "fuel4                       108 non-null object\n",
      "commissioning_year          14952 non-null float64\n",
      "owner                       18093 non-null object\n",
      "source                      28664 non-null object\n",
      "url                         28664 non-null object\n",
      "geolocation_source          28243 non-null object\n",
      "year_of_capacity_data       16145 non-null float64\n",
      "generation_gwh_2013         439 non-null float64\n",
      "generation_gwh_2014         455 non-null float64\n",
      "generation_gwh_2015         958 non-null float64\n",
      "generation_gwh_2016         8326 non-null float64\n",
      "estimated_generation_gwh    27536 non-null float64\n",
      "dtypes: float64(10), object(12)\n",
      "memory usage: 4.8+ MB\n"
     ]
    }
   ],
   "source": [
    "power_plant.info()"
   ]
  },
  {
   "cell_type": "code",
   "execution_count": 76,
   "metadata": {},
   "outputs": [
    {
     "data": {
      "text/html": [
       "<div>\n",
       "<style>\n",
       "    .dataframe thead tr:only-child th {\n",
       "        text-align: right;\n",
       "    }\n",
       "\n",
       "    .dataframe thead th {\n",
       "        text-align: left;\n",
       "    }\n",
       "\n",
       "    .dataframe tbody tr th {\n",
       "        vertical-align: top;\n",
       "    }\n",
       "</style>\n",
       "<table border=\"1\" class=\"dataframe\">\n",
       "  <thead>\n",
       "    <tr style=\"text-align: right;\">\n",
       "      <th></th>\n",
       "      <th>country</th>\n",
       "      <th>country_long</th>\n",
       "      <th>name</th>\n",
       "      <th>gppd_idnr</th>\n",
       "      <th>capacity_mw</th>\n",
       "      <th>latitude</th>\n",
       "      <th>longitude</th>\n",
       "      <th>fuel1</th>\n",
       "      <th>fuel2</th>\n",
       "      <th>fuel3</th>\n",
       "      <th>...</th>\n",
       "      <th>owner</th>\n",
       "      <th>source</th>\n",
       "      <th>url</th>\n",
       "      <th>geolocation_source</th>\n",
       "      <th>year_of_capacity_data</th>\n",
       "      <th>generation_gwh_2013</th>\n",
       "      <th>generation_gwh_2014</th>\n",
       "      <th>generation_gwh_2015</th>\n",
       "      <th>generation_gwh_2016</th>\n",
       "      <th>estimated_generation_gwh</th>\n",
       "    </tr>\n",
       "  </thead>\n",
       "  <tbody>\n",
       "    <tr>\n",
       "      <th>0</th>\n",
       "      <td>AFG</td>\n",
       "      <td>Afghanistan</td>\n",
       "      <td>Kajaki Hydroelectric Power Plant Afghanistan</td>\n",
       "      <td>GEODB0040538</td>\n",
       "      <td>33.00</td>\n",
       "      <td>32.3220</td>\n",
       "      <td>65.1190</td>\n",
       "      <td>Hydro</td>\n",
       "      <td>NaN</td>\n",
       "      <td>NaN</td>\n",
       "      <td>...</td>\n",
       "      <td>NaN</td>\n",
       "      <td>GEODB</td>\n",
       "      <td>http://globalenergyobservatory.org</td>\n",
       "      <td>GEODB</td>\n",
       "      <td>2017.0</td>\n",
       "      <td>NaN</td>\n",
       "      <td>NaN</td>\n",
       "      <td>NaN</td>\n",
       "      <td>NaN</td>\n",
       "      <td>NaN</td>\n",
       "    </tr>\n",
       "    <tr>\n",
       "      <th>1</th>\n",
       "      <td>AFG</td>\n",
       "      <td>Afghanistan</td>\n",
       "      <td>Mahipar Hydroelectric Power Plant Afghanistan</td>\n",
       "      <td>GEODB0040541</td>\n",
       "      <td>66.00</td>\n",
       "      <td>34.5560</td>\n",
       "      <td>69.4787</td>\n",
       "      <td>Hydro</td>\n",
       "      <td>NaN</td>\n",
       "      <td>NaN</td>\n",
       "      <td>...</td>\n",
       "      <td>NaN</td>\n",
       "      <td>GEODB</td>\n",
       "      <td>http://globalenergyobservatory.org</td>\n",
       "      <td>GEODB</td>\n",
       "      <td>2017.0</td>\n",
       "      <td>NaN</td>\n",
       "      <td>NaN</td>\n",
       "      <td>NaN</td>\n",
       "      <td>NaN</td>\n",
       "      <td>NaN</td>\n",
       "    </tr>\n",
       "    <tr>\n",
       "      <th>2</th>\n",
       "      <td>AFG</td>\n",
       "      <td>Afghanistan</td>\n",
       "      <td>Naghlu Dam Hydroelectric Power Plant Afghanistan</td>\n",
       "      <td>GEODB0040534</td>\n",
       "      <td>100.00</td>\n",
       "      <td>34.6410</td>\n",
       "      <td>69.7170</td>\n",
       "      <td>Hydro</td>\n",
       "      <td>NaN</td>\n",
       "      <td>NaN</td>\n",
       "      <td>...</td>\n",
       "      <td>NaN</td>\n",
       "      <td>GEODB</td>\n",
       "      <td>http://globalenergyobservatory.org</td>\n",
       "      <td>GEODB</td>\n",
       "      <td>2017.0</td>\n",
       "      <td>NaN</td>\n",
       "      <td>NaN</td>\n",
       "      <td>NaN</td>\n",
       "      <td>NaN</td>\n",
       "      <td>NaN</td>\n",
       "    </tr>\n",
       "    <tr>\n",
       "      <th>3</th>\n",
       "      <td>AFG</td>\n",
       "      <td>Afghanistan</td>\n",
       "      <td>Nangarhar (Darunta) Hydroelectric Power Plant ...</td>\n",
       "      <td>GEODB0040536</td>\n",
       "      <td>11.55</td>\n",
       "      <td>34.4847</td>\n",
       "      <td>70.3633</td>\n",
       "      <td>Hydro</td>\n",
       "      <td>NaN</td>\n",
       "      <td>NaN</td>\n",
       "      <td>...</td>\n",
       "      <td>NaN</td>\n",
       "      <td>GEODB</td>\n",
       "      <td>http://globalenergyobservatory.org</td>\n",
       "      <td>GEODB</td>\n",
       "      <td>2017.0</td>\n",
       "      <td>NaN</td>\n",
       "      <td>NaN</td>\n",
       "      <td>NaN</td>\n",
       "      <td>NaN</td>\n",
       "      <td>NaN</td>\n",
       "    </tr>\n",
       "    <tr>\n",
       "      <th>4</th>\n",
       "      <td>AFG</td>\n",
       "      <td>Afghanistan</td>\n",
       "      <td>Northwest Kabul Power Plant Afghanistan</td>\n",
       "      <td>GEODB0040540</td>\n",
       "      <td>42.00</td>\n",
       "      <td>34.5638</td>\n",
       "      <td>69.1134</td>\n",
       "      <td>Gas</td>\n",
       "      <td>NaN</td>\n",
       "      <td>NaN</td>\n",
       "      <td>...</td>\n",
       "      <td>NaN</td>\n",
       "      <td>GEODB</td>\n",
       "      <td>http://globalenergyobservatory.org</td>\n",
       "      <td>GEODB</td>\n",
       "      <td>2017.0</td>\n",
       "      <td>NaN</td>\n",
       "      <td>NaN</td>\n",
       "      <td>NaN</td>\n",
       "      <td>NaN</td>\n",
       "      <td>NaN</td>\n",
       "    </tr>\n",
       "  </tbody>\n",
       "</table>\n",
       "<p>5 rows × 22 columns</p>\n",
       "</div>"
      ],
      "text/plain": [
       "  country country_long                                               name  \\\n",
       "0     AFG  Afghanistan       Kajaki Hydroelectric Power Plant Afghanistan   \n",
       "1     AFG  Afghanistan      Mahipar Hydroelectric Power Plant Afghanistan   \n",
       "2     AFG  Afghanistan   Naghlu Dam Hydroelectric Power Plant Afghanistan   \n",
       "3     AFG  Afghanistan  Nangarhar (Darunta) Hydroelectric Power Plant ...   \n",
       "4     AFG  Afghanistan            Northwest Kabul Power Plant Afghanistan   \n",
       "\n",
       "      gppd_idnr  capacity_mw  latitude  longitude  fuel1 fuel2 fuel3  \\\n",
       "0  GEODB0040538        33.00   32.3220    65.1190  Hydro   NaN   NaN   \n",
       "1  GEODB0040541        66.00   34.5560    69.4787  Hydro   NaN   NaN   \n",
       "2  GEODB0040534       100.00   34.6410    69.7170  Hydro   NaN   NaN   \n",
       "3  GEODB0040536        11.55   34.4847    70.3633  Hydro   NaN   NaN   \n",
       "4  GEODB0040540        42.00   34.5638    69.1134    Gas   NaN   NaN   \n",
       "\n",
       "             ...            owner  source                                 url  \\\n",
       "0            ...              NaN   GEODB  http://globalenergyobservatory.org   \n",
       "1            ...              NaN   GEODB  http://globalenergyobservatory.org   \n",
       "2            ...              NaN   GEODB  http://globalenergyobservatory.org   \n",
       "3            ...              NaN   GEODB  http://globalenergyobservatory.org   \n",
       "4            ...              NaN   GEODB  http://globalenergyobservatory.org   \n",
       "\n",
       "  geolocation_source year_of_capacity_data generation_gwh_2013  \\\n",
       "0              GEODB                2017.0                 NaN   \n",
       "1              GEODB                2017.0                 NaN   \n",
       "2              GEODB                2017.0                 NaN   \n",
       "3              GEODB                2017.0                 NaN   \n",
       "4              GEODB                2017.0                 NaN   \n",
       "\n",
       "   generation_gwh_2014  generation_gwh_2015  generation_gwh_2016  \\\n",
       "0                  NaN                  NaN                  NaN   \n",
       "1                  NaN                  NaN                  NaN   \n",
       "2                  NaN                  NaN                  NaN   \n",
       "3                  NaN                  NaN                  NaN   \n",
       "4                  NaN                  NaN                  NaN   \n",
       "\n",
       "   estimated_generation_gwh  \n",
       "0                       NaN  \n",
       "1                       NaN  \n",
       "2                       NaN  \n",
       "3                       NaN  \n",
       "4                       NaN  \n",
       "\n",
       "[5 rows x 22 columns]"
      ]
     },
     "execution_count": 76,
     "metadata": {},
     "output_type": "execute_result"
    }
   ],
   "source": [
    "power_plant.head()"
   ]
  },
  {
   "cell_type": "code",
   "execution_count": 9,
   "metadata": {},
   "outputs": [
    {
     "data": {
      "text/html": [
       "<div>\n",
       "<style>\n",
       "    .dataframe thead tr:only-child th {\n",
       "        text-align: right;\n",
       "    }\n",
       "\n",
       "    .dataframe thead th {\n",
       "        text-align: left;\n",
       "    }\n",
       "\n",
       "    .dataframe tbody tr th {\n",
       "        vertical-align: top;\n",
       "    }\n",
       "</style>\n",
       "<table border=\"1\" class=\"dataframe\">\n",
       "  <thead>\n",
       "    <tr style=\"text-align: right;\">\n",
       "      <th></th>\n",
       "      <th>country</th>\n",
       "      <th>country_long</th>\n",
       "      <th>name</th>\n",
       "      <th>gppd_idnr</th>\n",
       "      <th>capacity_mw</th>\n",
       "      <th>latitude</th>\n",
       "      <th>longitude</th>\n",
       "      <th>fuel1</th>\n",
       "      <th>fuel2</th>\n",
       "      <th>fuel3</th>\n",
       "      <th>...</th>\n",
       "      <th>owner</th>\n",
       "      <th>source</th>\n",
       "      <th>url</th>\n",
       "      <th>geolocation_source</th>\n",
       "      <th>year_of_capacity_data</th>\n",
       "      <th>generation_gwh_2013</th>\n",
       "      <th>generation_gwh_2014</th>\n",
       "      <th>generation_gwh_2015</th>\n",
       "      <th>generation_gwh_2016</th>\n",
       "      <th>estimated_generation_gwh</th>\n",
       "    </tr>\n",
       "  </thead>\n",
       "  <tbody>\n",
       "    <tr>\n",
       "      <th>count</th>\n",
       "      <td>28664</td>\n",
       "      <td>28664</td>\n",
       "      <td>28644</td>\n",
       "      <td>28664</td>\n",
       "      <td>28664.000000</td>\n",
       "      <td>28664.000000</td>\n",
       "      <td>2.866400e+04</td>\n",
       "      <td>28661</td>\n",
       "      <td>1705</td>\n",
       "      <td>296</td>\n",
       "      <td>...</td>\n",
       "      <td>18093</td>\n",
       "      <td>28664</td>\n",
       "      <td>28664</td>\n",
       "      <td>28243</td>\n",
       "      <td>16145.000000</td>\n",
       "      <td>439.000000</td>\n",
       "      <td>455.000000</td>\n",
       "      <td>958.000000</td>\n",
       "      <td>8326.000000</td>\n",
       "      <td>27536.000000</td>\n",
       "    </tr>\n",
       "    <tr>\n",
       "      <th>unique</th>\n",
       "      <td>164</td>\n",
       "      <td>164</td>\n",
       "      <td>28261</td>\n",
       "      <td>28664</td>\n",
       "      <td>NaN</td>\n",
       "      <td>NaN</td>\n",
       "      <td>NaN</td>\n",
       "      <td>15</td>\n",
       "      <td>11</td>\n",
       "      <td>11</td>\n",
       "      <td>...</td>\n",
       "      <td>8746</td>\n",
       "      <td>823</td>\n",
       "      <td>5082</td>\n",
       "      <td>23</td>\n",
       "      <td>NaN</td>\n",
       "      <td>NaN</td>\n",
       "      <td>NaN</td>\n",
       "      <td>NaN</td>\n",
       "      <td>NaN</td>\n",
       "      <td>NaN</td>\n",
       "    </tr>\n",
       "    <tr>\n",
       "      <th>top</th>\n",
       "      <td>USA</td>\n",
       "      <td>United States of America</td>\n",
       "      <td>Santo Antônio</td>\n",
       "      <td>GBR0003248</td>\n",
       "      <td>NaN</td>\n",
       "      <td>NaN</td>\n",
       "      <td>NaN</td>\n",
       "      <td>Hydro</td>\n",
       "      <td>Gas</td>\n",
       "      <td>Gas</td>\n",
       "      <td>...</td>\n",
       "      <td>Lightsource Renewable Energy</td>\n",
       "      <td>U.S. Energy Information Administration</td>\n",
       "      <td>http://www.eia.gov/electricity/data/browser/</td>\n",
       "      <td>U.S. Energy Information Administration</td>\n",
       "      <td>NaN</td>\n",
       "      <td>NaN</td>\n",
       "      <td>NaN</td>\n",
       "      <td>NaN</td>\n",
       "      <td>NaN</td>\n",
       "      <td>NaN</td>\n",
       "    </tr>\n",
       "    <tr>\n",
       "      <th>freq</th>\n",
       "      <td>8119</td>\n",
       "      <td>8119</td>\n",
       "      <td>6</td>\n",
       "      <td>1</td>\n",
       "      <td>NaN</td>\n",
       "      <td>NaN</td>\n",
       "      <td>NaN</td>\n",
       "      <td>7034</td>\n",
       "      <td>1010</td>\n",
       "      <td>138</td>\n",
       "      <td>...</td>\n",
       "      <td>122</td>\n",
       "      <td>8077</td>\n",
       "      <td>8077</td>\n",
       "      <td>8077</td>\n",
       "      <td>NaN</td>\n",
       "      <td>NaN</td>\n",
       "      <td>NaN</td>\n",
       "      <td>NaN</td>\n",
       "      <td>NaN</td>\n",
       "      <td>NaN</td>\n",
       "    </tr>\n",
       "    <tr>\n",
       "      <th>mean</th>\n",
       "      <td>NaN</td>\n",
       "      <td>NaN</td>\n",
       "      <td>NaN</td>\n",
       "      <td>NaN</td>\n",
       "      <td>186.097600</td>\n",
       "      <td>68.817502</td>\n",
       "      <td>9.925621e+01</td>\n",
       "      <td>NaN</td>\n",
       "      <td>NaN</td>\n",
       "      <td>NaN</td>\n",
       "      <td>...</td>\n",
       "      <td>NaN</td>\n",
       "      <td>NaN</td>\n",
       "      <td>NaN</td>\n",
       "      <td>NaN</td>\n",
       "      <td>2016.035367</td>\n",
       "      <td>2339.270238</td>\n",
       "      <td>2622.049124</td>\n",
       "      <td>1859.660249</td>\n",
       "      <td>532.668481</td>\n",
       "      <td>807.796919</td>\n",
       "    </tr>\n",
       "    <tr>\n",
       "      <th>std</th>\n",
       "      <td>NaN</td>\n",
       "      <td>NaN</td>\n",
       "      <td>NaN</td>\n",
       "      <td>NaN</td>\n",
       "      <td>523.027253</td>\n",
       "      <td>3610.172087</td>\n",
       "      <td>1.092781e+04</td>\n",
       "      <td>NaN</td>\n",
       "      <td>NaN</td>\n",
       "      <td>NaN</td>\n",
       "      <td>...</td>\n",
       "      <td>NaN</td>\n",
       "      <td>NaN</td>\n",
       "      <td>NaN</td>\n",
       "      <td>NaN</td>\n",
       "      <td>1.258145</td>\n",
       "      <td>4384.011370</td>\n",
       "      <td>4138.194312</td>\n",
       "      <td>3965.618811</td>\n",
       "      <td>1935.490760</td>\n",
       "      <td>2687.873796</td>\n",
       "    </tr>\n",
       "    <tr>\n",
       "      <th>min</th>\n",
       "      <td>NaN</td>\n",
       "      <td>NaN</td>\n",
       "      <td>NaN</td>\n",
       "      <td>NaN</td>\n",
       "      <td>1.000000</td>\n",
       "      <td>-77.847000</td>\n",
       "      <td>-1.799777e+02</td>\n",
       "      <td>NaN</td>\n",
       "      <td>NaN</td>\n",
       "      <td>NaN</td>\n",
       "      <td>...</td>\n",
       "      <td>NaN</td>\n",
       "      <td>NaN</td>\n",
       "      <td>NaN</td>\n",
       "      <td>NaN</td>\n",
       "      <td>2000.000000</td>\n",
       "      <td>0.000000</td>\n",
       "      <td>0.000000</td>\n",
       "      <td>0.000000</td>\n",
       "      <td>-768.620000</td>\n",
       "      <td>0.000000</td>\n",
       "    </tr>\n",
       "    <tr>\n",
       "      <th>25%</th>\n",
       "      <td>NaN</td>\n",
       "      <td>NaN</td>\n",
       "      <td>NaN</td>\n",
       "      <td>NaN</td>\n",
       "      <td>4.795850</td>\n",
       "      <td>28.010225</td>\n",
       "      <td>-7.905748e+01</td>\n",
       "      <td>NaN</td>\n",
       "      <td>NaN</td>\n",
       "      <td>NaN</td>\n",
       "      <td>...</td>\n",
       "      <td>NaN</td>\n",
       "      <td>NaN</td>\n",
       "      <td>NaN</td>\n",
       "      <td>NaN</td>\n",
       "      <td>2016.000000</td>\n",
       "      <td>226.735625</td>\n",
       "      <td>253.466300</td>\n",
       "      <td>57.898941</td>\n",
       "      <td>3.197500</td>\n",
       "      <td>8.099628</td>\n",
       "    </tr>\n",
       "    <tr>\n",
       "      <th>50%</th>\n",
       "      <td>NaN</td>\n",
       "      <td>NaN</td>\n",
       "      <td>NaN</td>\n",
       "      <td>NaN</td>\n",
       "      <td>18.640000</td>\n",
       "      <td>39.950000</td>\n",
       "      <td>-3.928400e+00</td>\n",
       "      <td>NaN</td>\n",
       "      <td>NaN</td>\n",
       "      <td>NaN</td>\n",
       "      <td>...</td>\n",
       "      <td>NaN</td>\n",
       "      <td>NaN</td>\n",
       "      <td>NaN</td>\n",
       "      <td>NaN</td>\n",
       "      <td>2016.000000</td>\n",
       "      <td>731.334950</td>\n",
       "      <td>1015.676100</td>\n",
       "      <td>468.989500</td>\n",
       "      <td>20.354000</td>\n",
       "      <td>44.796959</td>\n",
       "    </tr>\n",
       "    <tr>\n",
       "      <th>75%</th>\n",
       "      <td>NaN</td>\n",
       "      <td>NaN</td>\n",
       "      <td>NaN</td>\n",
       "      <td>NaN</td>\n",
       "      <td>99.200000</td>\n",
       "      <td>46.980275</td>\n",
       "      <td>2.100702e+01</td>\n",
       "      <td>NaN</td>\n",
       "      <td>NaN</td>\n",
       "      <td>NaN</td>\n",
       "      <td>...</td>\n",
       "      <td>NaN</td>\n",
       "      <td>NaN</td>\n",
       "      <td>NaN</td>\n",
       "      <td>NaN</td>\n",
       "      <td>2016.000000</td>\n",
       "      <td>2636.217675</td>\n",
       "      <td>3170.871000</td>\n",
       "      <td>2152.211500</td>\n",
       "      <td>176.508999</td>\n",
       "      <td>293.907237</td>\n",
       "    </tr>\n",
       "    <tr>\n",
       "      <th>max</th>\n",
       "      <td>NaN</td>\n",
       "      <td>NaN</td>\n",
       "      <td>NaN</td>\n",
       "      <td>NaN</td>\n",
       "      <td>22500.000000</td>\n",
       "      <td>415750.000000</td>\n",
       "      <td>1.075744e+06</td>\n",
       "      <td>NaN</td>\n",
       "      <td>NaN</td>\n",
       "      <td>NaN</td>\n",
       "      <td>...</td>\n",
       "      <td>NaN</td>\n",
       "      <td>NaN</td>\n",
       "      <td>NaN</td>\n",
       "      <td>NaN</td>\n",
       "      <td>2018.000000</td>\n",
       "      <td>50834.000000</td>\n",
       "      <td>28127.000000</td>\n",
       "      <td>59546.865000</td>\n",
       "      <td>32377.477000</td>\n",
       "      <td>92268.763466</td>\n",
       "    </tr>\n",
       "  </tbody>\n",
       "</table>\n",
       "<p>11 rows × 22 columns</p>\n",
       "</div>"
      ],
      "text/plain": [
       "       country              country_long           name   gppd_idnr  \\\n",
       "count    28664                     28664          28644       28664   \n",
       "unique     164                       164          28261       28664   \n",
       "top        USA  United States of America  Santo Antônio  GBR0003248   \n",
       "freq      8119                      8119              6           1   \n",
       "mean       NaN                       NaN            NaN         NaN   \n",
       "std        NaN                       NaN            NaN         NaN   \n",
       "min        NaN                       NaN            NaN         NaN   \n",
       "25%        NaN                       NaN            NaN         NaN   \n",
       "50%        NaN                       NaN            NaN         NaN   \n",
       "75%        NaN                       NaN            NaN         NaN   \n",
       "max        NaN                       NaN            NaN         NaN   \n",
       "\n",
       "         capacity_mw       latitude     longitude  fuel1 fuel2 fuel3  \\\n",
       "count   28664.000000   28664.000000  2.866400e+04  28661  1705   296   \n",
       "unique           NaN            NaN           NaN     15    11    11   \n",
       "top              NaN            NaN           NaN  Hydro   Gas   Gas   \n",
       "freq             NaN            NaN           NaN   7034  1010   138   \n",
       "mean      186.097600      68.817502  9.925621e+01    NaN   NaN   NaN   \n",
       "std       523.027253    3610.172087  1.092781e+04    NaN   NaN   NaN   \n",
       "min         1.000000     -77.847000 -1.799777e+02    NaN   NaN   NaN   \n",
       "25%         4.795850      28.010225 -7.905748e+01    NaN   NaN   NaN   \n",
       "50%        18.640000      39.950000 -3.928400e+00    NaN   NaN   NaN   \n",
       "75%        99.200000      46.980275  2.100702e+01    NaN   NaN   NaN   \n",
       "max     22500.000000  415750.000000  1.075744e+06    NaN   NaN   NaN   \n",
       "\n",
       "                  ...                                    owner  \\\n",
       "count             ...                                    18093   \n",
       "unique            ...                                     8746   \n",
       "top               ...             Lightsource Renewable Energy   \n",
       "freq              ...                                      122   \n",
       "mean              ...                                      NaN   \n",
       "std               ...                                      NaN   \n",
       "min               ...                                      NaN   \n",
       "25%               ...                                      NaN   \n",
       "50%               ...                                      NaN   \n",
       "75%               ...                                      NaN   \n",
       "max               ...                                      NaN   \n",
       "\n",
       "                                        source  \\\n",
       "count                                    28664   \n",
       "unique                                     823   \n",
       "top     U.S. Energy Information Administration   \n",
       "freq                                      8077   \n",
       "mean                                       NaN   \n",
       "std                                        NaN   \n",
       "min                                        NaN   \n",
       "25%                                        NaN   \n",
       "50%                                        NaN   \n",
       "75%                                        NaN   \n",
       "max                                        NaN   \n",
       "\n",
       "                                                 url  \\\n",
       "count                                          28664   \n",
       "unique                                          5082   \n",
       "top     http://www.eia.gov/electricity/data/browser/   \n",
       "freq                                            8077   \n",
       "mean                                             NaN   \n",
       "std                                              NaN   \n",
       "min                                              NaN   \n",
       "25%                                              NaN   \n",
       "50%                                              NaN   \n",
       "75%                                              NaN   \n",
       "max                                              NaN   \n",
       "\n",
       "                            geolocation_source year_of_capacity_data  \\\n",
       "count                                    28243          16145.000000   \n",
       "unique                                      23                   NaN   \n",
       "top     U.S. Energy Information Administration                   NaN   \n",
       "freq                                      8077                   NaN   \n",
       "mean                                       NaN           2016.035367   \n",
       "std                                        NaN              1.258145   \n",
       "min                                        NaN           2000.000000   \n",
       "25%                                        NaN           2016.000000   \n",
       "50%                                        NaN           2016.000000   \n",
       "75%                                        NaN           2016.000000   \n",
       "max                                        NaN           2018.000000   \n",
       "\n",
       "       generation_gwh_2013  generation_gwh_2014  generation_gwh_2015  \\\n",
       "count           439.000000           455.000000           958.000000   \n",
       "unique                 NaN                  NaN                  NaN   \n",
       "top                    NaN                  NaN                  NaN   \n",
       "freq                   NaN                  NaN                  NaN   \n",
       "mean           2339.270238          2622.049124          1859.660249   \n",
       "std            4384.011370          4138.194312          3965.618811   \n",
       "min               0.000000             0.000000             0.000000   \n",
       "25%             226.735625           253.466300            57.898941   \n",
       "50%             731.334950          1015.676100           468.989500   \n",
       "75%            2636.217675          3170.871000          2152.211500   \n",
       "max           50834.000000         28127.000000         59546.865000   \n",
       "\n",
       "        generation_gwh_2016  estimated_generation_gwh  \n",
       "count           8326.000000              27536.000000  \n",
       "unique                  NaN                       NaN  \n",
       "top                     NaN                       NaN  \n",
       "freq                    NaN                       NaN  \n",
       "mean             532.668481                807.796919  \n",
       "std             1935.490760               2687.873796  \n",
       "min             -768.620000                  0.000000  \n",
       "25%                3.197500                  8.099628  \n",
       "50%               20.354000                 44.796959  \n",
       "75%              176.508999                293.907237  \n",
       "max            32377.477000              92268.763466  \n",
       "\n",
       "[11 rows x 22 columns]"
      ]
     },
     "execution_count": 9,
     "metadata": {},
     "output_type": "execute_result"
    }
   ],
   "source": [
    "power_plant.describe(include = 'all')"
   ]
  },
  {
   "cell_type": "code",
   "execution_count": 77,
   "metadata": {},
   "outputs": [
    {
     "data": {
      "text/plain": [
       "<matplotlib.axes._subplots.AxesSubplot at 0x1afdc597b00>"
      ]
     },
     "execution_count": 77,
     "metadata": {},
     "output_type": "execute_result"
    },
    {
     "data": {
      "image/png": "[encoded data removed]",
      "text/plain": [
       "<matplotlib.figure.Figure at 0x1afdc535080>"
      ]
     },
     "metadata": {},
     "output_type": "display_data"
    }
   ],
   "source": [
    "power_plant['estimated_generation_gwh'].plot()"
   ]
  },
  {
   "cell_type": "code",
   "execution_count": 3,
   "metadata": {},
   "outputs": [
    {
     "data": {
      "text/plain": [
       "country                         0\n",
       "country_long                    0\n",
       "name                           20\n",
       "gppd_idnr                       0\n",
       "capacity_mw                     0\n",
       "latitude                        0\n",
       "longitude                       0\n",
       "fuel1                           3\n",
       "fuel2                       26959\n",
       "fuel3                       28368\n",
       "fuel4                       28556\n",
       "commissioning_year          13712\n",
       "owner                       10571\n",
       "source                          0\n",
       "url                             0\n",
       "geolocation_source            421\n",
       "year_of_capacity_data       12519\n",
       "generation_gwh_2013         28225\n",
       "generation_gwh_2014         28209\n",
       "generation_gwh_2015         27706\n",
       "generation_gwh_2016         20338\n",
       "estimated_generation_gwh     1128\n",
       "dtype: int64"
      ]
     },
     "execution_count": 3,
     "metadata": {},
     "output_type": "execute_result"
    }
   ],
   "source": [
    "power_plant.isnull().sum()"
   ]
  },
  {
   "cell_type": "markdown",
   "metadata": {},
   "source": [
    "Above count shows that 'year' columns have approxmately 50% missing values . Hence analysis based on the dates will not give the correct answers. \n",
    "So also , the power generation figures for 2013 - 2016 have 90% missing values .\n",
    "We may be able to use only the 'estimated_generation_gwh' for our analysis."
   ]
  },
  {
   "cell_type": "markdown",
   "metadata": {},
   "source": [
    "Among the  fuel columns, only 'fuel1' has 3 missing values, while the remaining fuel have more than 90% missing values.Hence only 'fuel1' will be used for the analysis. "
   ]
  },
  {
   "cell_type": "code",
   "execution_count": 79,
   "metadata": {},
   "outputs": [
    {
     "data": {
      "text/plain": [
       "2014.000000    768\n",
       "2015.000000    760\n",
       "2016.000000    760\n",
       "2012.000000    704\n",
       "2013.000000    645\n",
       "2011.000000    579\n",
       "2009.000000    521\n",
       "2010.000000    486\n",
       "2008.000000    416\n",
       "2006.000000    374\n",
       "2005.000000    319\n",
       "2007.000000    314\n",
       "2002.000000    311\n",
       "2004.000000    281\n",
       "2003.000000    270\n",
       "2001.000000    263\n",
       "2017.000000    254\n",
       "2000.000000    220\n",
       "1989.000000    161\n",
       "1999.000000    160\n",
       "1988.000000    158\n",
       "1985.000000    152\n",
       "1987.000000    138\n",
       "1998.000000    137\n",
       "1990.000000    137\n",
       "1986.000000    135\n",
       "1994.000000    133\n",
       "1996.000000    132\n",
       "1993.000000    131\n",
       "1995.000000    126\n",
       "              ... \n",
       "1959.176471      1\n",
       "1977.773234      1\n",
       "1945.051948      1\n",
       "1983.942857      1\n",
       "1965.624853      1\n",
       "2006.282609      1\n",
       "2000.189189      1\n",
       "2000.534021      1\n",
       "1996.400000      1\n",
       "2003.824765      1\n",
       "1964.148587      1\n",
       "2014.278431      1\n",
       "1984.425926      1\n",
       "2009.763926      1\n",
       "1986.814159      1\n",
       "1972.343626      1\n",
       "1970.335055      1\n",
       "2007.257143      1\n",
       "2002.774834      1\n",
       "1928.112903      1\n",
       "2013.520396      1\n",
       "1933.666667      1\n",
       "1996.111111      1\n",
       "2001.714286      1\n",
       "1975.465686      1\n",
       "1985.601626      1\n",
       "1982.234249      1\n",
       "2004.416667      1\n",
       "1996.926114      1\n",
       "1971.699595      1\n",
       "Name: commissioning_year, Length: 2025, dtype: int64"
      ]
     },
     "execution_count": 79,
     "metadata": {},
     "output_type": "execute_result"
    }
   ],
   "source": [
    "power_plant.loc[power_plant['commissioning_year']!= 0,]['commissioning_year'].value_counts()"
   ]
  },
  {
   "cell_type": "code",
   "execution_count": 53,
   "metadata": {},
   "outputs": [
    {
     "data": {
      "text/plain": [
       "2016.0    11903\n",
       "2017.0     3371\n",
       "2012.0      400\n",
       "2015.0      291\n",
       "2018.0       73\n",
       "2000.0       58\n",
       "2014.0       27\n",
       "2013.0       20\n",
       "2010.0        1\n",
       "2009.0        1\n",
       "Name: year_of_capacity_data, dtype: int64"
      ]
     },
     "execution_count": 53,
     "metadata": {},
     "output_type": "execute_result"
    }
   ],
   "source": [
    "power_plant.loc[power_plant['year_of_capacity_data']!= 0,]['year_of_capacity_data'].value_counts()"
   ]
  },
  {
   "cell_type": "code",
   "execution_count": 31,
   "metadata": {
    "collapsed": true
   },
   "outputs": [
    {
     "data": {
      "text/plain": [
       "USA    8119\n",
       "CHN    2901\n",
       "GBR    2567\n",
       "BRA    2340\n",
       "FRA    2018\n",
       "CAN    1154\n",
       "DEU     980\n",
       "IND     845\n",
       "ESP     613\n",
       "PRT     462\n",
       "CZE     450\n",
       "AUS     419\n",
       "JPN     325\n",
       "NOR     306\n",
       "CHL     253\n",
       "MEX     251\n",
       "ITA     247\n",
       "ARG     241\n",
       "VNM     219\n",
       "FIN     184\n",
       "SWE     167\n",
       "THA     167\n",
       "CHE     166\n",
       "IDN     158\n",
       "RUS     157\n",
       "KOR     124\n",
       "AUT     103\n",
       "IRN     100\n",
       "PHL      98\n",
       "ZAF      98\n",
       "       ... \n",
       "GUF       5\n",
       "BTN       5\n",
       "LVA       5\n",
       "MWI       5\n",
       "BRN       4\n",
       "MLI       4\n",
       "MNE       3\n",
       "SLE       3\n",
       "GNQ       3\n",
       "TGO       3\n",
       "CPV       3\n",
       "MOZ       3\n",
       "PRY       3\n",
       "CYP       3\n",
       "BDI       3\n",
       "ATA       2\n",
       "BWA       2\n",
       "LUX       2\n",
       "ZWE       2\n",
       "MNG       2\n",
       "CAF       2\n",
       "KOS       2\n",
       "BEN       2\n",
       "ERI       2\n",
       "LBR       2\n",
       "GMB       2\n",
       "ESH       1\n",
       "GNB       1\n",
       "DJI       1\n",
       "LSO       1\n",
       "Name: country, Length: 164, dtype: int64"
      ]
     },
     "execution_count": 31,
     "metadata": {},
     "output_type": "execute_result"
    }
   ],
   "source": [
    "power_plant['country'].value_counts(dropna = False)"
   ]
  },
  {
   "cell_type": "code",
   "execution_count": 36,
   "metadata": {},
   "outputs": [
    {
     "data": {
      "text/plain": [
       "164"
      ]
     },
     "execution_count": 36,
     "metadata": {},
     "output_type": "execute_result"
    }
   ],
   "source": [
    "len(power_plant['country'].unique())"
   ]
  },
  {
   "cell_type": "code",
   "execution_count": 12,
   "metadata": {},
   "outputs": [
    {
     "data": {
      "text/plain": [
       "array(['Kajaki Hydroelectric Power Plant Afghanistan',\n",
       "       'Mahipar Hydroelectric Power Plant Afghanistan',\n",
       "       'Naghlu Dam Hydroelectric Power Plant Afghanistan', ...,\n",
       "       'Victoria Falls', 'Hwange Coal Power Plant Zimbabwe',\n",
       "       'Kariba Dam South Hydroelectric Power Station Zimbabwe'], dtype=object)"
      ]
     },
     "execution_count": 12,
     "metadata": {},
     "output_type": "execute_result"
    }
   ],
   "source": [
    "power_plant['name'].unique()"
   ]
  },
  {
   "cell_type": "code",
   "execution_count": 17,
   "metadata": {},
   "outputs": [
    {
     "data": {
      "text/plain": [
       "count    28664.000000\n",
       "mean       186.097600\n",
       "std        523.027253\n",
       "min          1.000000\n",
       "25%          4.795850\n",
       "50%         18.640000\n",
       "75%         99.200000\n",
       "max      22500.000000\n",
       "Name: capacity_mw, dtype: float64"
      ]
     },
     "execution_count": 17,
     "metadata": {},
     "output_type": "execute_result"
    }
   ],
   "source": [
    "power_plant['capacity_mw'].describe()"
   ]
  },
  {
   "cell_type": "code",
   "execution_count": 18,
   "metadata": {},
   "outputs": [
    {
     "data": {
      "text/plain": [
       "<matplotlib.axes._subplots.AxesSubplot at 0x12d5789f438>"
      ]
     },
     "execution_count": 18,
     "metadata": {},
     "output_type": "execute_result"
    },
    {
     "data": {
      "image/png": "[encoded data removed]",
      "text/plain": [
       "<matplotlib.figure.Figure at 0x12d57759358>"
      ]
     },
     "metadata": {},
     "output_type": "display_data"
    }
   ],
   "source": [
    "power_plant['capacity_mw'].plot.hist()"
   ]
  },
  {
   "cell_type": "code",
   "execution_count": 23,
   "metadata": {},
   "outputs": [
    {
     "data": {
      "text/plain": [
       "array(['Hydro', 'Gas', 'Other', 'Oil', 'Wind', 'Nuclear', 'Coal', 'Solar',\n",
       "       'Waste', 'Biomass', 'Wave and Tidal', 'Geothermal', nan,\n",
       "       'Cogeneration', 'Storage', 'Petcoke'], dtype=object)"
      ]
     },
     "execution_count": 23,
     "metadata": {},
     "output_type": "execute_result"
    }
   ],
   "source": [
    "power_plant['fuel1'].unique()"
   ]
  },
  {
   "cell_type": "code",
   "execution_count": 26,
   "metadata": {},
   "outputs": [
    {
     "data": {
      "text/plain": [
       "<matplotlib.axes._subplots.AxesSubplot at 0x12d392202e8>"
      ]
     },
     "execution_count": 26,
     "metadata": {},
     "output_type": "execute_result"
    },
    {
     "data": {
      "image/png": "[encoded data removed]",
      "text/plain": [
       "<matplotlib.figure.Figure at 0x12d3a60ca90>"
      ]
     },
     "metadata": {},
     "output_type": "display_data"
    }
   ],
   "source": [
    "power_plant['fuel1'].value_counts(dropna = False).plot.bar()"
   ]
  },
  {
   "cell_type": "code",
   "execution_count": 27,
   "metadata": {
    "scrolled": true
   },
   "outputs": [
    {
     "data": {
      "text/plain": [
       "<matplotlib.axes._subplots.AxesSubplot at 0x12d30b0cf60>"
      ]
     },
     "execution_count": 27,
     "metadata": {},
     "output_type": "execute_result"
    },
    {
     "data": {
      "image/png": "[encoded data removed]",
      "text/plain": [
       "<matplotlib.figure.Figure at 0x12d2e9b2278>"
      ]
     },
     "metadata": {},
     "output_type": "display_data"
    }
   ],
   "source": [
    "power_plant['fuel2'].value_counts(dropna = False).plot.bar()"
   ]
  },
  {
   "cell_type": "code",
   "execution_count": 28,
   "metadata": {},
   "outputs": [
    {
     "data": {
      "text/plain": [
       "<matplotlib.axes._subplots.AxesSubplot at 0x12d2e69e668>"
      ]
     },
     "execution_count": 28,
     "metadata": {},
     "output_type": "execute_result"
    },
    {
     "data": {
      "image/png": "[encoded data removed]",
      "text/plain": [
       "<matplotlib.figure.Figure at 0x12d3de5f4e0>"
      ]
     },
     "metadata": {},
     "output_type": "display_data"
    }
   ],
   "source": [
    "power_plant['fuel3'].value_counts(dropna = False).plot.bar()"
   ]
  },
  {
   "cell_type": "code",
   "execution_count": 29,
   "metadata": {},
   "outputs": [
    {
     "data": {
      "text/plain": [
       "<matplotlib.axes._subplots.AxesSubplot at 0x12d3e021f60>"
      ]
     },
     "execution_count": 29,
     "metadata": {},
     "output_type": "execute_result"
    },
    {
     "data": {
      "image/png": "[encoded data removed]",
      "text/plain": [
       "<matplotlib.figure.Figure at 0x12d3e60ebe0>"
      ]
     },
     "metadata": {},
     "output_type": "display_data"
    }
   ],
   "source": [
    "power_plant['fuel4'].value_counts(dropna = False).plot.bar()"
   ]
  },
  {
   "cell_type": "code",
   "execution_count": 41,
   "metadata": {},
   "outputs": [
    {
     "data": {
      "text/plain": [
       "U.S. Energy Information Administration                                                 8077\n",
       "WRI                                                                                    2912\n",
       "UK Renewable Energy Planning Database                                                  2442\n",
       "Open Power System Data                                                                 2392\n",
       "Agência Nacional de Energia Elétrica (Brazil)                                          2338\n",
       "Industry About                                                                         2052\n",
       "GEODB                                                                                  1811\n",
       "UNFCCC CDM Registry                                                                    1598\n",
       "CARMA                                                                                  1319\n",
       "Natural Resources Canada                                                               1125\n",
       "Energias Endogenas de Portugal                                                          454\n",
       "NaN                                                                                     421\n",
       "Australian Renewable Energy Mapping Infrastructure                                      419\n",
       "Energía Abierta                                                                         253\n",
       "North American Cooperation on Energy Information and Comisión Reguladora de Energía     251\n",
       "Ministerio de Energía y Minería                                                         241\n",
       "Power Africa                                                                            183\n",
       "Open Development Vietnam                                                                174\n",
       "Guatemala Energy Data Visualization Center at Universidad Rafael Landivar                75\n",
       "La Administración Nacional de Usinas y Trasmisiones Eléctricas (Uruguay)                 73\n",
       "KTH                                                                                      34\n",
       "Estonian Wind Energy Association                                                         11\n",
       "CDM                                                                                       5\n",
       "National Renewable Energy Laboratory                                                      4\n",
       "Name: geolocation_source, dtype: int64"
      ]
     },
     "execution_count": 41,
     "metadata": {},
     "output_type": "execute_result"
    }
   ],
   "source": [
    "power_plant['geolocation_source'].value_counts(dropna = False)"
   ]
  },
  {
   "cell_type": "code",
   "execution_count": 55,
   "metadata": {},
   "outputs": [
    {
     "data": {
      "text/plain": [
       "<matplotlib.axes._subplots.AxesSubplot at 0x1afdc59d9b0>"
      ]
     },
     "execution_count": 55,
     "metadata": {},
     "output_type": "execute_result"
    },
    {
     "data": {
      "image/png": "[encoded data removed]",
      "text/plain": [
       "<matplotlib.figure.Figure at 0x1afdc495390>"
      ]
     },
     "metadata": {},
     "output_type": "display_data"
    }
   ],
   "source": [
    "power_plant.loc[power_plant['generation_gwh_2013'] > 0,'generation_gwh_2013'].plot.hist()"
   ]
  },
  {
   "cell_type": "code",
   "execution_count": 56,
   "metadata": {},
   "outputs": [
    {
     "data": {
      "text/plain": [
       "<matplotlib.axes._subplots.AxesSubplot at 0x1afddc7c518>"
      ]
     },
     "execution_count": 56,
     "metadata": {},
     "output_type": "execute_result"
    },
    {
     "data": {
      "image/png": "[encoded data removed]",
      "text/plain": [
       "<matplotlib.figure.Figure at 0x1afdaac11d0>"
      ]
     },
     "metadata": {},
     "output_type": "display_data"
    }
   ],
   "source": [
    "power_plant.loc[power_plant['generation_gwh_2014'] > 0,'generation_gwh_2014'].plot.hist()"
   ]
  },
  {
   "cell_type": "code",
   "execution_count": 58,
   "metadata": {},
   "outputs": [
    {
     "data": {
      "text/plain": [
       "<matplotlib.axes._subplots.AxesSubplot at 0x1afdd6e8198>"
      ]
     },
     "execution_count": 58,
     "metadata": {},
     "output_type": "execute_result"
    },
    {
     "data": {
      "image/png": "[encoded data removed]",
      "text/plain": [
       "<matplotlib.figure.Figure at 0x1afdd6dcd68>"
      ]
     },
     "metadata": {},
     "output_type": "display_data"
    }
   ],
   "source": [
    "power_plant.loc[power_plant['generation_gwh_2015'] > 0,'generation_gwh_2015'].plot.hist()"
   ]
  },
  {
   "cell_type": "code",
   "execution_count": 60,
   "metadata": {},
   "outputs": [
    {
     "data": {
      "text/plain": [
       "<matplotlib.axes._subplots.AxesSubplot at 0x1afdd7bb048>"
      ]
     },
     "execution_count": 60,
     "metadata": {},
     "output_type": "execute_result"
    },
    {
     "data": {
      "image/png": "[encoded data removed]",
      "text/plain": [
       "<matplotlib.figure.Figure at 0x1afdc412d68>"
      ]
     },
     "metadata": {},
     "output_type": "display_data"
    }
   ],
   "source": [
    "power_plant.loc[power_plant['generation_gwh_2016'] > 0,'generation_gwh_2016'].plot.hist()"
   ]
  },
  {
   "cell_type": "code",
   "execution_count": 59,
   "metadata": {},
   "outputs": [
    {
     "data": {
      "text/plain": [
       "<matplotlib.axes._subplots.AxesSubplot at 0x1afdd7062e8>"
      ]
     },
     "execution_count": 59,
     "metadata": {},
     "output_type": "execute_result"
    },
    {
     "data": {
      "image/png": "[encoded data removed]",
      "text/plain": [
       "<matplotlib.figure.Figure at 0x1afdc46abe0>"
      ]
     },
     "metadata": {},
     "output_type": "display_data"
    }
   ],
   "source": [
    "power_plant.loc[power_plant['estimated_generation_gwh'] > 0,'estimated_generation_gwh'].plot.hist()"
   ]
  },
  {
   "cell_type": "markdown",
   "metadata": {},
   "source": [
    "The plot shows that 90% of the power plants have an power generation estimation of 10k gwh . "
   ]
  },
  {
   "cell_type": "code",
   "execution_count": 4,
   "metadata": {
    "collapsed": true
   },
   "outputs": [],
   "source": [
    "power_plant = power_plant.fillna(0)"
   ]
  },
  {
   "cell_type": "code",
   "execution_count": 81,
   "metadata": {},
   "outputs": [
    {
     "data": {
      "text/html": [
       "<div>\n",
       "<style>\n",
       "    .dataframe thead tr:only-child th {\n",
       "        text-align: right;\n",
       "    }\n",
       "\n",
       "    .dataframe thead th {\n",
       "        text-align: left;\n",
       "    }\n",
       "\n",
       "    .dataframe tbody tr th {\n",
       "        vertical-align: top;\n",
       "    }\n",
       "</style>\n",
       "<table border=\"1\" class=\"dataframe\">\n",
       "  <thead>\n",
       "    <tr style=\"text-align: right;\">\n",
       "      <th></th>\n",
       "      <th>capacity_mw</th>\n",
       "      <th>latitude</th>\n",
       "      <th>longitude</th>\n",
       "      <th>commissioning_year</th>\n",
       "      <th>year_of_capacity_data</th>\n",
       "      <th>generation_gwh_2013</th>\n",
       "      <th>generation_gwh_2014</th>\n",
       "      <th>generation_gwh_2015</th>\n",
       "      <th>generation_gwh_2016</th>\n",
       "      <th>estimated_generation_gwh</th>\n",
       "    </tr>\n",
       "  </thead>\n",
       "  <tbody>\n",
       "    <tr>\n",
       "      <th>count</th>\n",
       "      <td>28664.000000</td>\n",
       "      <td>28664.000000</td>\n",
       "      <td>2.866400e+04</td>\n",
       "      <td>28664.000000</td>\n",
       "      <td>28664.000000</td>\n",
       "      <td>28664.000000</td>\n",
       "      <td>28664.000000</td>\n",
       "      <td>28664.000000</td>\n",
       "      <td>28664.000000</td>\n",
       "      <td>28664.000000</td>\n",
       "    </tr>\n",
       "    <tr>\n",
       "      <th>mean</th>\n",
       "      <td>186.097600</td>\n",
       "      <td>68.817502</td>\n",
       "      <td>9.925621e+01</td>\n",
       "      <td>1040.494428</td>\n",
       "      <td>1135.532061</td>\n",
       "      <td>35.826808</td>\n",
       "      <td>41.621279</td>\n",
       "      <td>62.153032</td>\n",
       "      <td>154.723617</td>\n",
       "      <td>776.008092</td>\n",
       "    </tr>\n",
       "    <tr>\n",
       "      <th>std</th>\n",
       "      <td>523.027253</td>\n",
       "      <td>3610.172087</td>\n",
       "      <td>1.092781e+04</td>\n",
       "      <td>996.576363</td>\n",
       "      <td>999.937752</td>\n",
       "      <td>613.369712</td>\n",
       "      <td>615.342059</td>\n",
       "      <td>797.990227</td>\n",
       "      <td>1070.756223</td>\n",
       "      <td>2639.131720</td>\n",
       "    </tr>\n",
       "    <tr>\n",
       "      <th>min</th>\n",
       "      <td>1.000000</td>\n",
       "      <td>-77.847000</td>\n",
       "      <td>-1.799777e+02</td>\n",
       "      <td>0.000000</td>\n",
       "      <td>0.000000</td>\n",
       "      <td>0.000000</td>\n",
       "      <td>0.000000</td>\n",
       "      <td>0.000000</td>\n",
       "      <td>-768.620000</td>\n",
       "      <td>0.000000</td>\n",
       "    </tr>\n",
       "    <tr>\n",
       "      <th>25%</th>\n",
       "      <td>4.795850</td>\n",
       "      <td>28.010225</td>\n",
       "      <td>-7.905748e+01</td>\n",
       "      <td>0.000000</td>\n",
       "      <td>0.000000</td>\n",
       "      <td>0.000000</td>\n",
       "      <td>0.000000</td>\n",
       "      <td>0.000000</td>\n",
       "      <td>0.000000</td>\n",
       "      <td>6.221144</td>\n",
       "    </tr>\n",
       "    <tr>\n",
       "      <th>50%</th>\n",
       "      <td>18.640000</td>\n",
       "      <td>39.950000</td>\n",
       "      <td>-3.928400e+00</td>\n",
       "      <td>1938.000000</td>\n",
       "      <td>2016.000000</td>\n",
       "      <td>0.000000</td>\n",
       "      <td>0.000000</td>\n",
       "      <td>0.000000</td>\n",
       "      <td>0.000000</td>\n",
       "      <td>38.066204</td>\n",
       "    </tr>\n",
       "    <tr>\n",
       "      <th>75%</th>\n",
       "      <td>99.200000</td>\n",
       "      <td>46.980275</td>\n",
       "      <td>2.100702e+01</td>\n",
       "      <td>2005.000000</td>\n",
       "      <td>2016.000000</td>\n",
       "      <td>0.000000</td>\n",
       "      <td>0.000000</td>\n",
       "      <td>0.000000</td>\n",
       "      <td>0.577000</td>\n",
       "      <td>268.576751</td>\n",
       "    </tr>\n",
       "    <tr>\n",
       "      <th>max</th>\n",
       "      <td>22500.000000</td>\n",
       "      <td>415750.000000</td>\n",
       "      <td>1.075744e+06</td>\n",
       "      <td>2018.000000</td>\n",
       "      <td>2018.000000</td>\n",
       "      <td>50834.000000</td>\n",
       "      <td>28127.000000</td>\n",
       "      <td>59546.865000</td>\n",
       "      <td>32377.477000</td>\n",
       "      <td>92268.763466</td>\n",
       "    </tr>\n",
       "  </tbody>\n",
       "</table>\n",
       "</div>"
      ],
      "text/plain": [
       "        capacity_mw       latitude     longitude  commissioning_year  \\\n",
       "count  28664.000000   28664.000000  2.866400e+04        28664.000000   \n",
       "mean     186.097600      68.817502  9.925621e+01         1040.494428   \n",
       "std      523.027253    3610.172087  1.092781e+04          996.576363   \n",
       "min        1.000000     -77.847000 -1.799777e+02            0.000000   \n",
       "25%        4.795850      28.010225 -7.905748e+01            0.000000   \n",
       "50%       18.640000      39.950000 -3.928400e+00         1938.000000   \n",
       "75%       99.200000      46.980275  2.100702e+01         2005.000000   \n",
       "max    22500.000000  415750.000000  1.075744e+06         2018.000000   \n",
       "\n",
       "       year_of_capacity_data  generation_gwh_2013  generation_gwh_2014  \\\n",
       "count           28664.000000         28664.000000         28664.000000   \n",
       "mean             1135.532061            35.826808            41.621279   \n",
       "std               999.937752           613.369712           615.342059   \n",
       "min                 0.000000             0.000000             0.000000   \n",
       "25%                 0.000000             0.000000             0.000000   \n",
       "50%              2016.000000             0.000000             0.000000   \n",
       "75%              2016.000000             0.000000             0.000000   \n",
       "max              2018.000000         50834.000000         28127.000000   \n",
       "\n",
       "       generation_gwh_2015  generation_gwh_2016  estimated_generation_gwh  \n",
       "count         28664.000000         28664.000000              28664.000000  \n",
       "mean             62.153032           154.723617                776.008092  \n",
       "std             797.990227          1070.756223               2639.131720  \n",
       "min               0.000000          -768.620000                  0.000000  \n",
       "25%               0.000000             0.000000                  6.221144  \n",
       "50%               0.000000             0.000000                 38.066204  \n",
       "75%               0.000000             0.577000                268.576751  \n",
       "max           59546.865000         32377.477000              92268.763466  "
      ]
     },
     "execution_count": 81,
     "metadata": {},
     "output_type": "execute_result"
    }
   ],
   "source": [
    "power_plant.describe()"
   ]
  },
  {
   "cell_type": "code",
   "execution_count": 7,
   "metadata": {},
   "outputs": [
    {
     "data": {
      "text/plain": [
       "<matplotlib.axes._subplots.AxesSubplot at 0x162d7d74b00>"
      ]
     },
     "execution_count": 7,
     "metadata": {},
     "output_type": "execute_result"
    },
    {
     "data": {
      "image/png": "[encoded data removed]",
      "text/plain": [
       "<matplotlib.figure.Figure at 0x162d7d74320>"
      ]
     },
     "metadata": {},
     "output_type": "display_data"
    }
   ],
   "source": [
    "power_plant.groupby('fuel1')['capacity_mw'].sum().sort_values().plot.bar()"
   ]
  },
  {
   "cell_type": "markdown",
   "metadata": {},
   "source": [
    "Fuel types of Coal and Gas have the highest power generation capacity world wide , followed by hydro and oil. "
   ]
  },
  {
   "cell_type": "code",
   "execution_count": 8,
   "metadata": {},
   "outputs": [
    {
     "data": {
      "text/plain": [
       "<matplotlib.axes._subplots.AxesSubplot at 0x162d7da5048>"
      ]
     },
     "execution_count": 8,
     "metadata": {},
     "output_type": "execute_result"
    },
    {
     "data": {
      "image/png": "[encoded data removed]",
      "text/plain": [
       "<matplotlib.figure.Figure at 0x162d7d8ff28>"
      ]
     },
     "metadata": {},
     "output_type": "display_data"
    }
   ],
   "source": [
    "power_plant.groupby('country')['capacity_mw'].sum().sort_values(ascending = False)[0:9].plot.bar()"
   ]
  },
  {
   "cell_type": "markdown",
   "metadata": {
    "collapsed": true
   },
   "source": [
    "China , USA have the maximum power generation capacity followed by India and Japan. China and USA have a huge lead in power generation , which is more than 4 times India's power generation. "
   ]
  },
  {
   "cell_type": "code",
   "execution_count": 31,
   "metadata": {},
   "outputs": [
    {
     "data": {
      "text/plain": [
       "<matplotlib.axes._subplots.AxesSubplot at 0x24f612264e0>"
      ]
     },
     "execution_count": 31,
     "metadata": {},
     "output_type": "execute_result"
    },
    {
     "data": {
      "image/png": "[encoded data removed]",
      "text/plain": [
       "<matplotlib.figure.Figure at 0x24f611ac550>"
      ]
     },
     "metadata": {},
     "output_type": "display_data"
    }
   ],
   "source": [
    "import seaborn as sns\n",
    "temp_df = power_plant.groupby(['country','fuel1'], as_index = False)['capacity_mw'].sum().sort_values('capacity_mw', ascending = False)\n",
    "top_temp_df = temp_df.groupby('country', as_index = False).first().sort_values('capacity_mw', ascending = False).head(15)\n",
    "sns.barplot(y= \"country\" , x = \"capacity_mw\", hue = 'fuel1', data = top_temp_df)"
   ]
  },
  {
   "cell_type": "markdown",
   "metadata": {},
   "source": [
    "The plot shows the maximum power generation by country and fuel type. Only the top 15 countries have been plotted. \n",
    "China and USA have the maximum power generation capacity with coal as fuel type , followed by India. \n",
    "China has great margin , more than 2 times of USA . \n",
    "Brazil , Canada have their maximum power generation with hydro. \n",
    "Russia and Japan have gas power plants generating maximum power and Saudi Arabia has oil run power plant respectively."
   ]
  },
  {
   "cell_type": "code",
   "execution_count": 5,
   "metadata": {
    "collapsed": true
   },
   "outputs": [],
   "source": [
    "power_plant['energy_flag'] = power_plant['fuel1'].apply(lambda x: 'Non-Renewable' if x in ['Coal','Gas','Oil','Nuclear'] else 'Renewable')"
   ]
  },
  {
   "cell_type": "code",
   "execution_count": 83,
   "metadata": {},
   "outputs": [
    {
     "data": {
      "text/plain": [
       "Renewable        20300\n",
       "Non-Renewable     8364\n",
       "Name: energy_flag, dtype: int64"
      ]
     },
     "execution_count": 83,
     "metadata": {},
     "output_type": "execute_result"
    }
   ],
   "source": [
    "power_plant['energy_flag'].value_counts()"
   ]
  },
  {
   "cell_type": "code",
   "execution_count": 7,
   "metadata": {
    "collapsed": true
   },
   "outputs": [],
   "source": [
    "energy_df = power_plant.groupby(['country','energy_flag'] , as_index = False)['capacity_mw'].sum().sort_values('capacity_mw',ascending = False)\n"
   ]
  },
  {
   "cell_type": "code",
   "execution_count": 192,
   "metadata": {},
   "outputs": [
    {
     "data": {
      "text/html": [
       "<div>\n",
       "<style>\n",
       "    .dataframe thead tr:only-child th {\n",
       "        text-align: right;\n",
       "    }\n",
       "\n",
       "    .dataframe thead th {\n",
       "        text-align: left;\n",
       "    }\n",
       "\n",
       "    .dataframe tbody tr th {\n",
       "        vertical-align: top;\n",
       "    }\n",
       "</style>\n",
       "<table border=\"1\" class=\"dataframe\">\n",
       "  <thead>\n",
       "    <tr style=\"text-align: right;\">\n",
       "      <th></th>\n",
       "      <th>country</th>\n",
       "      <th>energy_flag</th>\n",
       "      <th>capacity_mw</th>\n",
       "    </tr>\n",
       "  </thead>\n",
       "  <tbody>\n",
       "    <tr>\n",
       "      <th>278</th>\n",
       "      <td>USA</td>\n",
       "      <td>Non-Renewable</td>\n",
       "      <td>956694.400</td>\n",
       "    </tr>\n",
       "    <tr>\n",
       "      <th>48</th>\n",
       "      <td>CHN</td>\n",
       "      <td>Non-Renewable</td>\n",
       "      <td>923903.100</td>\n",
       "    </tr>\n",
       "    <tr>\n",
       "      <th>49</th>\n",
       "      <td>CHN</td>\n",
       "      <td>Renewable</td>\n",
       "      <td>313575.280</td>\n",
       "    </tr>\n",
       "    <tr>\n",
       "      <th>279</th>\n",
       "      <td>USA</td>\n",
       "      <td>Renewable</td>\n",
       "      <td>227161.150</td>\n",
       "    </tr>\n",
       "    <tr>\n",
       "      <th>123</th>\n",
       "      <td>IND</td>\n",
       "      <td>Non-Renewable</td>\n",
       "      <td>222339.951</td>\n",
       "    </tr>\n",
       "  </tbody>\n",
       "</table>\n",
       "</div>"
      ],
      "text/plain": [
       "    country    energy_flag  capacity_mw\n",
       "278     USA  Non-Renewable   956694.400\n",
       "48      CHN  Non-Renewable   923903.100\n",
       "49      CHN      Renewable   313575.280\n",
       "279     USA      Renewable   227161.150\n",
       "123     IND  Non-Renewable   222339.951"
      ]
     },
     "execution_count": 192,
     "metadata": {},
     "output_type": "execute_result"
    }
   ],
   "source": [
    "energy_df.head()"
   ]
  },
  {
   "cell_type": "code",
   "execution_count": 8,
   "metadata": {},
   "outputs": [
    {
     "data": {
      "text/html": [
       "<div>\n",
       "<style>\n",
       "    .dataframe thead tr:only-child th {\n",
       "        text-align: right;\n",
       "    }\n",
       "\n",
       "    .dataframe thead th {\n",
       "        text-align: left;\n",
       "    }\n",
       "\n",
       "    .dataframe tbody tr th {\n",
       "        vertical-align: top;\n",
       "    }\n",
       "</style>\n",
       "<table border=\"1\" class=\"dataframe\">\n",
       "  <thead>\n",
       "    <tr>\n",
       "      <th></th>\n",
       "      <th colspan=\"2\" halign=\"left\">capacity_mw</th>\n",
       "    </tr>\n",
       "    <tr>\n",
       "      <th>energy_flag</th>\n",
       "      <th>Non-Renewable</th>\n",
       "      <th>Renewable</th>\n",
       "    </tr>\n",
       "    <tr>\n",
       "      <th>country</th>\n",
       "      <th></th>\n",
       "      <th></th>\n",
       "    </tr>\n",
       "  </thead>\n",
       "  <tbody>\n",
       "    <tr>\n",
       "      <th>AFG</th>\n",
       "      <td>42.000</td>\n",
       "      <td>238.55</td>\n",
       "    </tr>\n",
       "    <tr>\n",
       "      <th>AGO</th>\n",
       "      <td>300.580</td>\n",
       "      <td>770.60</td>\n",
       "    </tr>\n",
       "    <tr>\n",
       "      <th>ALB</th>\n",
       "      <td>0.000</td>\n",
       "      <td>1529.00</td>\n",
       "    </tr>\n",
       "    <tr>\n",
       "      <th>ARE</th>\n",
       "      <td>29487.000</td>\n",
       "      <td>120.00</td>\n",
       "    </tr>\n",
       "    <tr>\n",
       "      <th>ARG</th>\n",
       "      <td>22026.309</td>\n",
       "      <td>10374.27</td>\n",
       "    </tr>\n",
       "  </tbody>\n",
       "</table>\n",
       "</div>"
      ],
      "text/plain": [
       "              capacity_mw          \n",
       "energy_flag Non-Renewable Renewable\n",
       "country                            \n",
       "AFG                42.000    238.55\n",
       "AGO               300.580    770.60\n",
       "ALB                 0.000   1529.00\n",
       "ARE             29487.000    120.00\n",
       "ARG             22026.309  10374.27"
      ]
     },
     "execution_count": 8,
     "metadata": {},
     "output_type": "execute_result"
    }
   ],
   "source": [
    "# Expand the dataframe to 'wide ' tidy format .  \n",
    "energy_df.pivot_table(index = \"country\", columns = \"energy_flag\", fill_value = 0).head()"
   ]
  },
  {
   "cell_type": "code",
   "execution_count": 91,
   "metadata": {
    "collapsed": true
   },
   "outputs": [],
   "source": [
    "energy_df_wide = energy_df.pivot_table(index = \"country\", columns = \"energy_flag\", fill_value= 0)\n"
   ]
  },
  {
   "cell_type": "code",
   "execution_count": 92,
   "metadata": {
    "collapsed": true
   },
   "outputs": [],
   "source": [
    "energy_df_wide.columns = ['non-renewable', 'renewable']"
   ]
  },
  {
   "cell_type": "code",
   "execution_count": 93,
   "metadata": {},
   "outputs": [
    {
     "name": "stdout",
     "output_type": "stream",
     "text": [
      "<class 'pandas.core.frame.DataFrame'>\n",
      "Index: 164 entries, AFG to ZWE\n",
      "Data columns (total 2 columns):\n",
      "non-renewable    164 non-null float64\n",
      "renewable        164 non-null float64\n",
      "dtypes: float64(2)\n",
      "memory usage: 3.8+ KB\n"
     ]
    }
   ],
   "source": [
    "energy_df_wide.info()"
   ]
  },
  {
   "cell_type": "code",
   "execution_count": 94,
   "metadata": {},
   "outputs": [
    {
     "data": {
      "text/plain": [
       "<matplotlib.axes._subplots.AxesSubplot at 0x24f6513d550>"
      ]
     },
     "execution_count": 94,
     "metadata": {},
     "output_type": "execute_result"
    },
    {
     "data": {
      "image/png": "[encoded data removed]",
      "text/plain": [
       "<matplotlib.figure.Figure at 0x24f66247f98>"
      ]
     },
     "metadata": {},
     "output_type": "display_data"
    }
   ],
   "source": [
    "# Plot the countries with maximum value for renewable power along with their non-renewable power capacity.\n",
    "energy_df_wide.sort_values(['renewable', 'non-renewable'], ascending = False).head(20).plot.bar()"
   ]
  },
  {
   "cell_type": "markdown",
   "metadata": {},
   "source": [
    "It is seen that China leads in power generation with renewable energy. It is followed by USA . However their power generation capaicity with non-renewables far exceeds that with renewable by more than 3 times.  \n",
    "The next in line for renewable power generation capacity are Brazil and Canada whose stand out with their power generation by renewable exceeding by more than 50% that produced by non-renewables. "
   ]
  },
  {
   "cell_type": "code",
   "execution_count": 95,
   "metadata": {
    "collapsed": true
   },
   "outputs": [],
   "source": [
    "def get_percent(row):\n",
    "    if row['non-renewable'] > 0:\n",
    "        return  (row['renewable'] / row['non-renewable'])\n",
    "        \n",
    "    else:\n",
    "        return 1 \n",
    "\n",
    "energy_df_wide['percent'] = energy_df_wide.apply(get_percent , axis = 1)\n",
    "energy_df_wide['percent'] = energy_df_wide['percent'].apply(lambda x: round(x , 1))\n"
   ]
  },
  {
   "cell_type": "code",
   "execution_count": 96,
   "metadata": {},
   "outputs": [
    {
     "data": {
      "text/html": [
       "<div>\n",
       "<style>\n",
       "    .dataframe thead tr:only-child th {\n",
       "        text-align: right;\n",
       "    }\n",
       "\n",
       "    .dataframe thead th {\n",
       "        text-align: left;\n",
       "    }\n",
       "\n",
       "    .dataframe tbody tr th {\n",
       "        vertical-align: top;\n",
       "    }\n",
       "</style>\n",
       "<table border=\"1\" class=\"dataframe\">\n",
       "  <thead>\n",
       "    <tr style=\"text-align: right;\">\n",
       "      <th></th>\n",
       "      <th>non-renewable</th>\n",
       "      <th>renewable</th>\n",
       "      <th>percent</th>\n",
       "    </tr>\n",
       "    <tr>\n",
       "      <th>country</th>\n",
       "      <th></th>\n",
       "      <th></th>\n",
       "      <th></th>\n",
       "    </tr>\n",
       "  </thead>\n",
       "  <tbody>\n",
       "    <tr>\n",
       "      <th>AFG</th>\n",
       "      <td>42.000</td>\n",
       "      <td>238.55</td>\n",
       "      <td>5.7</td>\n",
       "    </tr>\n",
       "    <tr>\n",
       "      <th>AGO</th>\n",
       "      <td>300.580</td>\n",
       "      <td>770.60</td>\n",
       "      <td>2.6</td>\n",
       "    </tr>\n",
       "    <tr>\n",
       "      <th>ALB</th>\n",
       "      <td>0.000</td>\n",
       "      <td>1529.00</td>\n",
       "      <td>1.0</td>\n",
       "    </tr>\n",
       "    <tr>\n",
       "      <th>ARE</th>\n",
       "      <td>29487.000</td>\n",
       "      <td>120.00</td>\n",
       "      <td>0.0</td>\n",
       "    </tr>\n",
       "    <tr>\n",
       "      <th>ARG</th>\n",
       "      <td>22026.309</td>\n",
       "      <td>10374.27</td>\n",
       "      <td>0.5</td>\n",
       "    </tr>\n",
       "  </tbody>\n",
       "</table>\n",
       "</div>"
      ],
      "text/plain": [
       "         non-renewable  renewable  percent\n",
       "country                                   \n",
       "AFG             42.000     238.55      5.7\n",
       "AGO            300.580     770.60      2.6\n",
       "ALB              0.000    1529.00      1.0\n",
       "ARE          29487.000     120.00      0.0\n",
       "ARG          22026.309   10374.27      0.5"
      ]
     },
     "execution_count": 96,
     "metadata": {},
     "output_type": "execute_result"
    }
   ],
   "source": [
    "energy_df_wide.head()"
   ]
  },
  {
   "cell_type": "code",
   "execution_count": 80,
   "metadata": {},
   "outputs": [
    {
     "data": {
      "text/plain": [
       "<matplotlib.axes._subplots.AxesSubplot at 0x24f64d82198>"
      ]
     },
     "execution_count": 80,
     "metadata": {},
     "output_type": "execute_result"
    },
    {
     "data": {
      "image/png": "[encoded data removed]",
      "text/plain": [
       "<matplotlib.figure.Figure at 0x24f64ed85c0>"
      ]
     },
     "metadata": {},
     "output_type": "display_data"
    }
   ],
   "source": [
    "energy_df_wide['percent'].sort_values(ascending = False).head(20).plot.bar()"
   ]
  },
  {
   "cell_type": "markdown",
   "metadata": {},
   "source": [
    "Countries such as Democratic Republic of Congo , Malawi , Tajikistan , Brazil , Uruguay , Afghanisthan , New Zealand have more power generation with renewables than non-renewables. What would be their annual power demand ? Do they import power or is the power generation with renewables sufficient ? "
   ]
  },
  {
   "cell_type": "code",
   "execution_count": 97,
   "metadata": {},
   "outputs": [
    {
     "data": {
      "text/plain": [
       "<matplotlib.axes._subplots.AxesSubplot at 0x24f66374438>"
      ]
     },
     "execution_count": 97,
     "metadata": {},
     "output_type": "execute_result"
    },
    {
     "data": {
      "image/png": "[encoded data removed]",
      "text/plain": [
       "<matplotlib.figure.Figure at 0x24f651d4d30>"
      ]
     },
     "metadata": {},
     "output_type": "display_data"
    }
   ],
   "source": [
    "energy_df_wide.loc[energy_df_wide['percent'] > 0,'percent'].sort_values( ascending = True).head(20).plot.bar()"
   ]
  },
  {
   "cell_type": "markdown",
   "metadata": {},
   "source": [
    "Countries such as Korea , Poland , Jamaica etc have less than 20% power generation capacity with renewable energy . "
   ]
  },
  {
   "cell_type": "code",
   "execution_count": 98,
   "metadata": {
    "collapsed": true
   },
   "outputs": [],
   "source": [
    "energy_df_wide['total_power']= power_plant.groupby('country')['capacity_mw'].sum()"
   ]
  },
  {
   "cell_type": "code",
   "execution_count": 99,
   "metadata": {},
   "outputs": [
    {
     "data": {
      "text/html": [
       "<div>\n",
       "<style>\n",
       "    .dataframe thead tr:only-child th {\n",
       "        text-align: right;\n",
       "    }\n",
       "\n",
       "    .dataframe thead th {\n",
       "        text-align: left;\n",
       "    }\n",
       "\n",
       "    .dataframe tbody tr th {\n",
       "        vertical-align: top;\n",
       "    }\n",
       "</style>\n",
       "<table border=\"1\" class=\"dataframe\">\n",
       "  <thead>\n",
       "    <tr style=\"text-align: right;\">\n",
       "      <th></th>\n",
       "      <th>non-renewable</th>\n",
       "      <th>renewable</th>\n",
       "      <th>percent</th>\n",
       "      <th>total_power</th>\n",
       "    </tr>\n",
       "    <tr>\n",
       "      <th>country</th>\n",
       "      <th></th>\n",
       "      <th></th>\n",
       "      <th></th>\n",
       "      <th></th>\n",
       "    </tr>\n",
       "  </thead>\n",
       "  <tbody>\n",
       "    <tr>\n",
       "      <th>AFG</th>\n",
       "      <td>42.000</td>\n",
       "      <td>238.55</td>\n",
       "      <td>5.7</td>\n",
       "      <td>280.550</td>\n",
       "    </tr>\n",
       "    <tr>\n",
       "      <th>AGO</th>\n",
       "      <td>300.580</td>\n",
       "      <td>770.60</td>\n",
       "      <td>2.6</td>\n",
       "      <td>1071.180</td>\n",
       "    </tr>\n",
       "    <tr>\n",
       "      <th>ALB</th>\n",
       "      <td>0.000</td>\n",
       "      <td>1529.00</td>\n",
       "      <td>1.0</td>\n",
       "      <td>1529.000</td>\n",
       "    </tr>\n",
       "    <tr>\n",
       "      <th>ARE</th>\n",
       "      <td>29487.000</td>\n",
       "      <td>120.00</td>\n",
       "      <td>0.0</td>\n",
       "      <td>29607.000</td>\n",
       "    </tr>\n",
       "    <tr>\n",
       "      <th>ARG</th>\n",
       "      <td>22026.309</td>\n",
       "      <td>10374.27</td>\n",
       "      <td>0.5</td>\n",
       "      <td>32400.579</td>\n",
       "    </tr>\n",
       "  </tbody>\n",
       "</table>\n",
       "</div>"
      ],
      "text/plain": [
       "         non-renewable  renewable  percent  total_power\n",
       "country                                                \n",
       "AFG             42.000     238.55      5.7      280.550\n",
       "AGO            300.580     770.60      2.6     1071.180\n",
       "ALB              0.000    1529.00      1.0     1529.000\n",
       "ARE          29487.000     120.00      0.0    29607.000\n",
       "ARG          22026.309   10374.27      0.5    32400.579"
      ]
     },
     "execution_count": 99,
     "metadata": {},
     "output_type": "execute_result"
    }
   ],
   "source": [
    "energy_df_wide.head()"
   ]
  },
  {
   "cell_type": "code",
   "execution_count": 101,
   "metadata": {
    "collapsed": true
   },
   "outputs": [],
   "source": [
    "energy_df_wide_country = energy_df_wide.reset_index(inplace = False)"
   ]
  },
  {
   "cell_type": "markdown",
   "metadata": {},
   "source": [
    "Lets look at the percentage of renewables used in power production in the top power generation countries."
   ]
  },
  {
   "cell_type": "code",
   "execution_count": 102,
   "metadata": {},
   "outputs": [
    {
     "data": {
      "text/plain": [
       "<matplotlib.axes._subplots.AxesSubplot at 0x24f663e0588>"
      ]
     },
     "execution_count": 102,
     "metadata": {},
     "output_type": "execute_result"
    },
    {
     "data": {
      "image/png": "[encoded data removed]",
      "text/plain": [
       "<matplotlib.figure.Figure at 0x24f66428cc0>"
      ]
     },
     "metadata": {},
     "output_type": "display_data"
    }
   ],
   "source": [
    "sns.barplot(x='country', y = 'total_power', data = energy_df_wide_country.sort_values('total_power', ascending = False).head(13), hue = 'percent')"
   ]
  },
  {
   "cell_type": "markdown",
   "metadata": {},
   "source": [
    "We see that USA , India , Japan use 20% renewables in the power generation . China and Russia have 30% share of renewables , France 40%, Spain 60% , Canada 200 % and Brazil 500% ."
   ]
  },
  {
   "cell_type": "code",
   "execution_count": 145,
   "metadata": {},
   "outputs": [
    {
     "data": {
      "text/plain": [
       "<seaborn.axisgrid.FacetGrid at 0x1afeb09d278>"
      ]
     },
     "execution_count": 145,
     "metadata": {},
     "output_type": "execute_result"
    },
    {
     "data": {
      "image/png": "[encoded data removed]",
      "text/plain": [
       "<matplotlib.figure.Figure at 0x1afeafd6e80>"
      ]
     },
     "metadata": {},
     "output_type": "display_data"
    }
   ],
   "source": [
    "import seaborn as sns\n",
    "temp_df = power_plant.groupby(['fuel1','country'], as_index = False)['capacity_mw'].sum().sort_values('capacity_mw', ascending = False)\n",
    "top_temp_df = temp_df.groupby('fuel1', as_index = False).first().sort_values('capacity_mw', ascending = False)\n",
    "\n",
    "top_temp_df['energy_flag'] = top_temp_df['fuel1'].apply(lambda x: 'Non-Renewable' if x in ['Coal','Gas','Oil','Nuclear'] else 'Renewable')\n",
    "\n",
    "sns.factorplot(y =\"capacity_mw\", x= \"country\", hue = 'fuel1' , col = 'energy_flag', data = top_temp_df, kind= \"point\", size=3, aspect =2, palette = \"CMRmap\")"
   ]
  },
  {
   "cell_type": "markdown",
   "metadata": {},
   "source": [
    "We see that among renewable energy , China has the maximum capacity in hydro , followed by USA in solar , geothermal , wind , petcoke , storage and Brazil in biomass.\n",
    "Among the non-renewable energies , China has the lead in coal , followed by USA in oil , gas and nuclear. \n"
   ]
  },
  {
   "cell_type": "markdown",
   "metadata": {},
   "source": [
    "Number of installations of power plants with renewable and non-renewables as fuel. "
   ]
  },
  {
   "cell_type": "code",
   "execution_count": 21,
   "metadata": {},
   "outputs": [
    {
     "data": {
      "text/plain": [
       "<matplotlib.axes._subplots.AxesSubplot at 0x10d8aa94ac8>"
      ]
     },
     "execution_count": 21,
     "metadata": {},
     "output_type": "execute_result"
    },
    {
     "data": {
      "image/png": "[encoded data removed]",
      "text/plain": [
       "<matplotlib.figure.Figure at 0x10d8aa94ef0>"
      ]
     },
     "metadata": {},
     "output_type": "display_data"
    }
   ],
   "source": [
    "power_plant['energy_flag'].value_counts().plot.bar()"
   ]
  },
  {
   "cell_type": "markdown",
   "metadata": {},
   "source": [
    "There are 3 times more number of power plants with renewable fuel types than with non-renewables. "
   ]
  },
  {
   "cell_type": "code",
   "execution_count": 22,
   "metadata": {},
   "outputs": [
    {
     "data": {
      "text/plain": [
       "<matplotlib.axes._subplots.AxesSubplot at 0x10d8aab0550>"
      ]
     },
     "execution_count": 22,
     "metadata": {},
     "output_type": "execute_result"
    },
    {
     "data": {
      "image/png": "[encoded data removed]",
      "text/plain": [
       "<matplotlib.figure.Figure at 0x10d8aaead30>"
      ]
     },
     "metadata": {},
     "output_type": "display_data"
    }
   ],
   "source": [
    "power_plant['fuel1'].value_counts().plot.bar()"
   ]
  },
  {
   "cell_type": "markdown",
   "metadata": {},
   "source": [
    "The plot shows that renewable energy such as hydro , solar and wind have the highest number of installations. \n",
    "This is due to dependency of the installations on the geographical locations and the smaller size of the plant as compared to the coal , oil and gas power plants.  \n"
   ]
  },
  {
   "cell_type": "code",
   "execution_count": 148,
   "metadata": {},
   "outputs": [
    {
     "data": {
      "text/plain": [
       "<seaborn.axisgrid.FacetGrid at 0x1afecabdb38>"
      ]
     },
     "execution_count": 148,
     "metadata": {},
     "output_type": "execute_result"
    },
    {
     "data": {
      "image/png": "[encoded data removed]",
      "text/plain": [
       "<matplotlib.figure.Figure at 0x1afeced0518>"
      ]
     },
     "metadata": {},
     "output_type": "display_data"
    }
   ],
   "source": [
    "sns.lmplot(y= \"capacity_mw\" ,x = \"estimated_generation_gwh\", data = power_plant)"
   ]
  },
  {
   "cell_type": "markdown",
   "metadata": {},
   "source": [
    "The plot shows that the estimated power generation values are proportional to the capacity . "
   ]
  }
 ],
 "metadata": {
  "kernelspec": {
   "display_name": "Python 3",
   "language": "python",
   "name": "python3"
  },
  "language_info": {
   "codemirror_mode": {
    "name": "ipython",
    "version": 3
   },
   "file_extension": ".py",
   "mimetype": "text/x-python",
   "name": "python",
   "nbconvert_exporter": "python",
   "pygments_lexer": "ipython3",
   "version": "3.6.3"
  }
 },
 "nbformat": 4,
 "nbformat_minor": 2
}
