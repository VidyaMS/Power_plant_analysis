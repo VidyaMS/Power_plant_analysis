{
 "cells": [
  {
   "cell_type": "markdown",
   "metadata": {},
   "source": [
    "Source of Data : World Resources Institute/CAIT 2.0 .https://www.wri.org/resources/data-sets/cait-country-clean-technology-data"
   ]
  },
  {
   "cell_type": "code",
   "execution_count": 1,
   "metadata": {
    "collapsed": true
   },
   "outputs": [],
   "source": [
    "import pandas as pd \n",
    "import matplotlib.pyplot as plt\n",
    "%matplotlib inline"
   ]
  },
  {
   "cell_type": "code",
   "execution_count": 2,
   "metadata": {
    "collapsed": true
   },
   "outputs": [],
   "source": [
    "clean_data = pd.read_csv('CAIT 2.0 Country Clean Technology Data-csv.csv', header = 1)"
   ]
  },
  {
   "cell_type": "code",
   "execution_count": 3,
   "metadata": {},
   "outputs": [
    {
     "name": "stdout",
     "output_type": "stream",
     "text": [
      "<class 'pandas.core.frame.DataFrame'>\n",
      "RangeIndex: 60 entries, 0 to 59\n",
      "Data columns (total 14 columns):\n",
      "Country                                                   60 non-null object\n",
      "Year                                                      60 non-null int64\n",
      "Cumulative Installed Solar PV Capacity (MW)               49 non-null float64\n",
      "Annual Additions of Installed Solar PV Capacity (MW)      43 non-null float64\n",
      "Cumulative Installed Wind Capacity (MW)                   60 non-null int64\n",
      "Annual Additions of Installed Wind Capacity (MW)          56 non-null float64\n",
      "Annual Manufacturing Capacity of Silicon (Metric Tons)    26 non-null float64\n",
      "Annual Manufacturing Capacity of PV Cells (MW)            34 non-null float64\n",
      "Annual Manufacturing Capacity of PV Modules (MW)          35 non-null float64\n",
      "Annual Manufacturing Capacity of Wind Turbines (MW)       35 non-null float64\n",
      "Total Solar PV Jobs                                       33 non-null float64\n",
      "Total Solar PV Manufacturing Jobs                         10 non-null float64\n",
      "Total Wind Jobs                                           14 non-null float64\n",
      "Total Wind Manufacturing Jobs                             7 non-null float64\n",
      "dtypes: float64(11), int64(2), object(1)\n",
      "memory usage: 6.6+ KB\n"
     ]
    }
   ],
   "source": [
    "clean_data.info()"
   ]
  },
  {
   "cell_type": "code",
   "execution_count": 4,
   "metadata": {},
   "outputs": [
    {
     "data": {
      "text/html": [
       "<div>\n",
       "<style>\n",
       "    .dataframe thead tr:only-child th {\n",
       "        text-align: right;\n",
       "    }\n",
       "\n",
       "    .dataframe thead th {\n",
       "        text-align: left;\n",
       "    }\n",
       "\n",
       "    .dataframe tbody tr th {\n",
       "        vertical-align: top;\n",
       "    }\n",
       "</style>\n",
       "<table border=\"1\" class=\"dataframe\">\n",
       "  <thead>\n",
       "    <tr style=\"text-align: right;\">\n",
       "      <th></th>\n",
       "      <th>Country</th>\n",
       "      <th>Year</th>\n",
       "      <th>Cumulative Installed Solar PV Capacity (MW)</th>\n",
       "      <th>Annual Additions of Installed Solar PV Capacity (MW)</th>\n",
       "      <th>Cumulative Installed Wind Capacity (MW)</th>\n",
       "      <th>Annual Additions of Installed Wind Capacity (MW)</th>\n",
       "      <th>Annual Manufacturing Capacity of Silicon (Metric Tons)</th>\n",
       "      <th>Annual Manufacturing Capacity of PV Cells (MW)</th>\n",
       "      <th>Annual Manufacturing Capacity of PV Modules (MW)</th>\n",
       "      <th>Annual Manufacturing Capacity of Wind Turbines (MW)</th>\n",
       "      <th>Total Solar PV Jobs</th>\n",
       "      <th>Total Solar PV Manufacturing Jobs</th>\n",
       "      <th>Total Wind Jobs</th>\n",
       "      <th>Total Wind Manufacturing Jobs</th>\n",
       "    </tr>\n",
       "  </thead>\n",
       "  <tbody>\n",
       "    <tr>\n",
       "      <th>0</th>\n",
       "      <td>China</td>\n",
       "      <td>2000</td>\n",
       "      <td>NaN</td>\n",
       "      <td>NaN</td>\n",
       "      <td>346</td>\n",
       "      <td>NaN</td>\n",
       "      <td>NaN</td>\n",
       "      <td>NaN</td>\n",
       "      <td>NaN</td>\n",
       "      <td>NaN</td>\n",
       "      <td>NaN</td>\n",
       "      <td>NaN</td>\n",
       "      <td>NaN</td>\n",
       "      <td>NaN</td>\n",
       "    </tr>\n",
       "    <tr>\n",
       "      <th>1</th>\n",
       "      <td>China</td>\n",
       "      <td>2001</td>\n",
       "      <td>NaN</td>\n",
       "      <td>NaN</td>\n",
       "      <td>402</td>\n",
       "      <td>56.0</td>\n",
       "      <td>NaN</td>\n",
       "      <td>NaN</td>\n",
       "      <td>NaN</td>\n",
       "      <td>NaN</td>\n",
       "      <td>NaN</td>\n",
       "      <td>NaN</td>\n",
       "      <td>NaN</td>\n",
       "      <td>NaN</td>\n",
       "    </tr>\n",
       "    <tr>\n",
       "      <th>2</th>\n",
       "      <td>China</td>\n",
       "      <td>2002</td>\n",
       "      <td>NaN</td>\n",
       "      <td>NaN</td>\n",
       "      <td>469</td>\n",
       "      <td>67.0</td>\n",
       "      <td>NaN</td>\n",
       "      <td>NaN</td>\n",
       "      <td>NaN</td>\n",
       "      <td>NaN</td>\n",
       "      <td>NaN</td>\n",
       "      <td>NaN</td>\n",
       "      <td>NaN</td>\n",
       "      <td>NaN</td>\n",
       "    </tr>\n",
       "    <tr>\n",
       "      <th>3</th>\n",
       "      <td>China</td>\n",
       "      <td>2003</td>\n",
       "      <td>NaN</td>\n",
       "      <td>NaN</td>\n",
       "      <td>567</td>\n",
       "      <td>98.0</td>\n",
       "      <td>NaN</td>\n",
       "      <td>NaN</td>\n",
       "      <td>NaN</td>\n",
       "      <td>NaN</td>\n",
       "      <td>NaN</td>\n",
       "      <td>NaN</td>\n",
       "      <td>NaN</td>\n",
       "      <td>NaN</td>\n",
       "    </tr>\n",
       "    <tr>\n",
       "      <th>4</th>\n",
       "      <td>China</td>\n",
       "      <td>2004</td>\n",
       "      <td>62.1</td>\n",
       "      <td>10.0</td>\n",
       "      <td>764</td>\n",
       "      <td>197.0</td>\n",
       "      <td>NaN</td>\n",
       "      <td>NaN</td>\n",
       "      <td>NaN</td>\n",
       "      <td>NaN</td>\n",
       "      <td>NaN</td>\n",
       "      <td>NaN</td>\n",
       "      <td>NaN</td>\n",
       "      <td>NaN</td>\n",
       "    </tr>\n",
       "    <tr>\n",
       "      <th>5</th>\n",
       "      <td>China</td>\n",
       "      <td>2005</td>\n",
       "      <td>71.0</td>\n",
       "      <td>8.9</td>\n",
       "      <td>1260</td>\n",
       "      <td>496.0</td>\n",
       "      <td>NaN</td>\n",
       "      <td>253.0</td>\n",
       "      <td>373.0</td>\n",
       "      <td>781.50</td>\n",
       "      <td>NaN</td>\n",
       "      <td>NaN</td>\n",
       "      <td>NaN</td>\n",
       "      <td>NaN</td>\n",
       "    </tr>\n",
       "    <tr>\n",
       "      <th>6</th>\n",
       "      <td>China</td>\n",
       "      <td>2006</td>\n",
       "      <td>81.0</td>\n",
       "      <td>10.0</td>\n",
       "      <td>2559</td>\n",
       "      <td>1299.0</td>\n",
       "      <td>NaN</td>\n",
       "      <td>893.0</td>\n",
       "      <td>1054.5</td>\n",
       "      <td>1254.50</td>\n",
       "      <td>39500.0</td>\n",
       "      <td>NaN</td>\n",
       "      <td>NaN</td>\n",
       "      <td>NaN</td>\n",
       "    </tr>\n",
       "    <tr>\n",
       "      <th>7</th>\n",
       "      <td>China</td>\n",
       "      <td>2007</td>\n",
       "      <td>101.0</td>\n",
       "      <td>20.0</td>\n",
       "      <td>5910</td>\n",
       "      <td>3351.0</td>\n",
       "      <td>1500.0</td>\n",
       "      <td>2361.0</td>\n",
       "      <td>2597.0</td>\n",
       "      <td>4683.40</td>\n",
       "      <td>82800.0</td>\n",
       "      <td>NaN</td>\n",
       "      <td>NaN</td>\n",
       "      <td>NaN</td>\n",
       "    </tr>\n",
       "    <tr>\n",
       "      <th>8</th>\n",
       "      <td>China</td>\n",
       "      <td>2008</td>\n",
       "      <td>141.0</td>\n",
       "      <td>40.0</td>\n",
       "      <td>12020</td>\n",
       "      <td>6110.0</td>\n",
       "      <td>4500.0</td>\n",
       "      <td>5101.0</td>\n",
       "      <td>4470.0</td>\n",
       "      <td>10935.75</td>\n",
       "      <td>200000.0</td>\n",
       "      <td>NaN</td>\n",
       "      <td>NaN</td>\n",
       "      <td>NaN</td>\n",
       "    </tr>\n",
       "    <tr>\n",
       "      <th>9</th>\n",
       "      <td>China</td>\n",
       "      <td>2009</td>\n",
       "      <td>351.0</td>\n",
       "      <td>210.0</td>\n",
       "      <td>25805</td>\n",
       "      <td>13785.0</td>\n",
       "      <td>26000.0</td>\n",
       "      <td>7011.0</td>\n",
       "      <td>7640.0</td>\n",
       "      <td>23168.00</td>\n",
       "      <td>220000.0</td>\n",
       "      <td>NaN</td>\n",
       "      <td>150000.0</td>\n",
       "      <td>NaN</td>\n",
       "    </tr>\n",
       "    <tr>\n",
       "      <th>10</th>\n",
       "      <td>China</td>\n",
       "      <td>2010</td>\n",
       "      <td>910.0</td>\n",
       "      <td>559.0</td>\n",
       "      <td>44733</td>\n",
       "      <td>18928.0</td>\n",
       "      <td>39300.0</td>\n",
       "      <td>17191.0</td>\n",
       "      <td>20250.0</td>\n",
       "      <td>46604.60</td>\n",
       "      <td>300000.0</td>\n",
       "      <td>NaN</td>\n",
       "      <td>NaN</td>\n",
       "      <td>NaN</td>\n",
       "    </tr>\n",
       "    <tr>\n",
       "      <th>11</th>\n",
       "      <td>China</td>\n",
       "      <td>2011</td>\n",
       "      <td>3110.0</td>\n",
       "      <td>2140.0</td>\n",
       "      <td>62364</td>\n",
       "      <td>17631.0</td>\n",
       "      <td>90100.0</td>\n",
       "      <td>33286.0</td>\n",
       "      <td>33060.0</td>\n",
       "      <td>61353.00</td>\n",
       "      <td>NaN</td>\n",
       "      <td>NaN</td>\n",
       "      <td>NaN</td>\n",
       "      <td>NaN</td>\n",
       "    </tr>\n",
       "    <tr>\n",
       "      <th>12</th>\n",
       "      <td>Germany</td>\n",
       "      <td>2000</td>\n",
       "      <td>76.0</td>\n",
       "      <td>45.0</td>\n",
       "      <td>6095</td>\n",
       "      <td>1665.0</td>\n",
       "      <td>NaN</td>\n",
       "      <td>NaN</td>\n",
       "      <td>NaN</td>\n",
       "      <td>NaN</td>\n",
       "      <td>3100.0</td>\n",
       "      <td>NaN</td>\n",
       "      <td>25000.0</td>\n",
       "      <td>NaN</td>\n",
       "    </tr>\n",
       "    <tr>\n",
       "      <th>13</th>\n",
       "      <td>Germany</td>\n",
       "      <td>2001</td>\n",
       "      <td>186.0</td>\n",
       "      <td>115.0</td>\n",
       "      <td>8754</td>\n",
       "      <td>2659.0</td>\n",
       "      <td>NaN</td>\n",
       "      <td>NaN</td>\n",
       "      <td>NaN</td>\n",
       "      <td>NaN</td>\n",
       "      <td>4000.0</td>\n",
       "      <td>NaN</td>\n",
       "      <td>38000.0</td>\n",
       "      <td>NaN</td>\n",
       "    </tr>\n",
       "    <tr>\n",
       "      <th>14</th>\n",
       "      <td>Germany</td>\n",
       "      <td>2002</td>\n",
       "      <td>296.0</td>\n",
       "      <td>113.0</td>\n",
       "      <td>12001</td>\n",
       "      <td>3247.0</td>\n",
       "      <td>NaN</td>\n",
       "      <td>NaN</td>\n",
       "      <td>NaN</td>\n",
       "      <td>NaN</td>\n",
       "      <td>4300.0</td>\n",
       "      <td>NaN</td>\n",
       "      <td>46000.0</td>\n",
       "      <td>NaN</td>\n",
       "    </tr>\n",
       "    <tr>\n",
       "      <th>15</th>\n",
       "      <td>Germany</td>\n",
       "      <td>2003</td>\n",
       "      <td>435.0</td>\n",
       "      <td>147.0</td>\n",
       "      <td>14609</td>\n",
       "      <td>2645.0</td>\n",
       "      <td>NaN</td>\n",
       "      <td>NaN</td>\n",
       "      <td>NaN</td>\n",
       "      <td>NaN</td>\n",
       "      <td>6500.0</td>\n",
       "      <td>NaN</td>\n",
       "      <td>48000.0</td>\n",
       "      <td>NaN</td>\n",
       "    </tr>\n",
       "    <tr>\n",
       "      <th>16</th>\n",
       "      <td>Germany</td>\n",
       "      <td>2004</td>\n",
       "      <td>1105.0</td>\n",
       "      <td>660.0</td>\n",
       "      <td>16629</td>\n",
       "      <td>2037.0</td>\n",
       "      <td>NaN</td>\n",
       "      <td>NaN</td>\n",
       "      <td>NaN</td>\n",
       "      <td>NaN</td>\n",
       "      <td>17200.0</td>\n",
       "      <td>NaN</td>\n",
       "      <td>61600.0</td>\n",
       "      <td>17979.0</td>\n",
       "    </tr>\n",
       "    <tr>\n",
       "      <th>17</th>\n",
       "      <td>Germany</td>\n",
       "      <td>2005</td>\n",
       "      <td>2056.0</td>\n",
       "      <td>930.0</td>\n",
       "      <td>18428</td>\n",
       "      <td>1808.0</td>\n",
       "      <td>5500.0</td>\n",
       "      <td>6.0</td>\n",
       "      <td>21.0</td>\n",
       "      <td>4080.00</td>\n",
       "      <td>22300.0</td>\n",
       "      <td>NaN</td>\n",
       "      <td>65000.0</td>\n",
       "      <td>21643.0</td>\n",
       "    </tr>\n",
       "    <tr>\n",
       "      <th>18</th>\n",
       "      <td>Germany</td>\n",
       "      <td>2006</td>\n",
       "      <td>2899.0</td>\n",
       "      <td>850.0</td>\n",
       "      <td>20621</td>\n",
       "      <td>2233.0</td>\n",
       "      <td>6500.0</td>\n",
       "      <td>926.0</td>\n",
       "      <td>197.0</td>\n",
       "      <td>4362.50</td>\n",
       "      <td>29600.0</td>\n",
       "      <td>NaN</td>\n",
       "      <td>70000.0</td>\n",
       "      <td>25518.0</td>\n",
       "    </tr>\n",
       "    <tr>\n",
       "      <th>19</th>\n",
       "      <td>Germany</td>\n",
       "      <td>2007</td>\n",
       "      <td>4170.0</td>\n",
       "      <td>1270.0</td>\n",
       "      <td>22247</td>\n",
       "      <td>1667.0</td>\n",
       "      <td>10000.0</td>\n",
       "      <td>1222.0</td>\n",
       "      <td>622.0</td>\n",
       "      <td>4515.00</td>\n",
       "      <td>40400.0</td>\n",
       "      <td>NaN</td>\n",
       "      <td>90000.0</td>\n",
       "      <td>30903.0</td>\n",
       "    </tr>\n",
       "  </tbody>\n",
       "</table>\n",
       "</div>"
      ],
      "text/plain": [
       "    Country  Year  Cumulative Installed Solar PV Capacity (MW)  \\\n",
       "0     China  2000                                          NaN   \n",
       "1     China  2001                                          NaN   \n",
       "2     China  2002                                          NaN   \n",
       "3     China  2003                                          NaN   \n",
       "4     China  2004                                         62.1   \n",
       "5     China  2005                                         71.0   \n",
       "6     China  2006                                         81.0   \n",
       "7     China  2007                                        101.0   \n",
       "8     China  2008                                        141.0   \n",
       "9     China  2009                                        351.0   \n",
       "10    China  2010                                        910.0   \n",
       "11    China  2011                                       3110.0   \n",
       "12  Germany  2000                                         76.0   \n",
       "13  Germany  2001                                        186.0   \n",
       "14  Germany  2002                                        296.0   \n",
       "15  Germany  2003                                        435.0   \n",
       "16  Germany  2004                                       1105.0   \n",
       "17  Germany  2005                                       2056.0   \n",
       "18  Germany  2006                                       2899.0   \n",
       "19  Germany  2007                                       4170.0   \n",
       "\n",
       "    Annual Additions of Installed Solar PV Capacity (MW)  \\\n",
       "0                                                 NaN      \n",
       "1                                                 NaN      \n",
       "2                                                 NaN      \n",
       "3                                                 NaN      \n",
       "4                                                10.0      \n",
       "5                                                 8.9      \n",
       "6                                                10.0      \n",
       "7                                                20.0      \n",
       "8                                                40.0      \n",
       "9                                               210.0      \n",
       "10                                              559.0      \n",
       "11                                             2140.0      \n",
       "12                                               45.0      \n",
       "13                                              115.0      \n",
       "14                                              113.0      \n",
       "15                                              147.0      \n",
       "16                                              660.0      \n",
       "17                                              930.0      \n",
       "18                                              850.0      \n",
       "19                                             1270.0      \n",
       "\n",
       "    Cumulative Installed Wind Capacity (MW)  \\\n",
       "0                                       346   \n",
       "1                                       402   \n",
       "2                                       469   \n",
       "3                                       567   \n",
       "4                                       764   \n",
       "5                                      1260   \n",
       "6                                      2559   \n",
       "7                                      5910   \n",
       "8                                     12020   \n",
       "9                                     25805   \n",
       "10                                    44733   \n",
       "11                                    62364   \n",
       "12                                     6095   \n",
       "13                                     8754   \n",
       "14                                    12001   \n",
       "15                                    14609   \n",
       "16                                    16629   \n",
       "17                                    18428   \n",
       "18                                    20621   \n",
       "19                                    22247   \n",
       "\n",
       "    Annual Additions of Installed Wind Capacity (MW)  \\\n",
       "0                                                NaN   \n",
       "1                                               56.0   \n",
       "2                                               67.0   \n",
       "3                                               98.0   \n",
       "4                                              197.0   \n",
       "5                                              496.0   \n",
       "6                                             1299.0   \n",
       "7                                             3351.0   \n",
       "8                                             6110.0   \n",
       "9                                            13785.0   \n",
       "10                                           18928.0   \n",
       "11                                           17631.0   \n",
       "12                                            1665.0   \n",
       "13                                            2659.0   \n",
       "14                                            3247.0   \n",
       "15                                            2645.0   \n",
       "16                                            2037.0   \n",
       "17                                            1808.0   \n",
       "18                                            2233.0   \n",
       "19                                            1667.0   \n",
       "\n",
       "    Annual Manufacturing Capacity of Silicon (Metric Tons)  \\\n",
       "0                                                 NaN        \n",
       "1                                                 NaN        \n",
       "2                                                 NaN        \n",
       "3                                                 NaN        \n",
       "4                                                 NaN        \n",
       "5                                                 NaN        \n",
       "6                                                 NaN        \n",
       "7                                              1500.0        \n",
       "8                                              4500.0        \n",
       "9                                             26000.0        \n",
       "10                                            39300.0        \n",
       "11                                            90100.0        \n",
       "12                                                NaN        \n",
       "13                                                NaN        \n",
       "14                                                NaN        \n",
       "15                                                NaN        \n",
       "16                                                NaN        \n",
       "17                                             5500.0        \n",
       "18                                             6500.0        \n",
       "19                                            10000.0        \n",
       "\n",
       "    Annual Manufacturing Capacity of PV Cells (MW)  \\\n",
       "0                                              NaN   \n",
       "1                                              NaN   \n",
       "2                                              NaN   \n",
       "3                                              NaN   \n",
       "4                                              NaN   \n",
       "5                                            253.0   \n",
       "6                                            893.0   \n",
       "7                                           2361.0   \n",
       "8                                           5101.0   \n",
       "9                                           7011.0   \n",
       "10                                         17191.0   \n",
       "11                                         33286.0   \n",
       "12                                             NaN   \n",
       "13                                             NaN   \n",
       "14                                             NaN   \n",
       "15                                             NaN   \n",
       "16                                             NaN   \n",
       "17                                             6.0   \n",
       "18                                           926.0   \n",
       "19                                          1222.0   \n",
       "\n",
       "    Annual Manufacturing Capacity of PV Modules (MW)  \\\n",
       "0                                                NaN   \n",
       "1                                                NaN   \n",
       "2                                                NaN   \n",
       "3                                                NaN   \n",
       "4                                                NaN   \n",
       "5                                              373.0   \n",
       "6                                             1054.5   \n",
       "7                                             2597.0   \n",
       "8                                             4470.0   \n",
       "9                                             7640.0   \n",
       "10                                           20250.0   \n",
       "11                                           33060.0   \n",
       "12                                               NaN   \n",
       "13                                               NaN   \n",
       "14                                               NaN   \n",
       "15                                               NaN   \n",
       "16                                               NaN   \n",
       "17                                              21.0   \n",
       "18                                             197.0   \n",
       "19                                             622.0   \n",
       "\n",
       "    Annual Manufacturing Capacity of Wind Turbines (MW)  Total Solar PV Jobs  \\\n",
       "0                                                 NaN                    NaN   \n",
       "1                                                 NaN                    NaN   \n",
       "2                                                 NaN                    NaN   \n",
       "3                                                 NaN                    NaN   \n",
       "4                                                 NaN                    NaN   \n",
       "5                                              781.50                    NaN   \n",
       "6                                             1254.50                39500.0   \n",
       "7                                             4683.40                82800.0   \n",
       "8                                            10935.75               200000.0   \n",
       "9                                            23168.00               220000.0   \n",
       "10                                           46604.60               300000.0   \n",
       "11                                           61353.00                    NaN   \n",
       "12                                                NaN                 3100.0   \n",
       "13                                                NaN                 4000.0   \n",
       "14                                                NaN                 4300.0   \n",
       "15                                                NaN                 6500.0   \n",
       "16                                                NaN                17200.0   \n",
       "17                                            4080.00                22300.0   \n",
       "18                                            4362.50                29600.0   \n",
       "19                                            4515.00                40400.0   \n",
       "\n",
       "    Total Solar PV Manufacturing Jobs  Total Wind Jobs  \\\n",
       "0                                 NaN              NaN   \n",
       "1                                 NaN              NaN   \n",
       "2                                 NaN              NaN   \n",
       "3                                 NaN              NaN   \n",
       "4                                 NaN              NaN   \n",
       "5                                 NaN              NaN   \n",
       "6                                 NaN              NaN   \n",
       "7                                 NaN              NaN   \n",
       "8                                 NaN              NaN   \n",
       "9                                 NaN         150000.0   \n",
       "10                                NaN              NaN   \n",
       "11                                NaN              NaN   \n",
       "12                                NaN          25000.0   \n",
       "13                                NaN          38000.0   \n",
       "14                                NaN          46000.0   \n",
       "15                                NaN          48000.0   \n",
       "16                                NaN          61600.0   \n",
       "17                                NaN          65000.0   \n",
       "18                                NaN          70000.0   \n",
       "19                                NaN          90000.0   \n",
       "\n",
       "    Total Wind Manufacturing Jobs  \n",
       "0                             NaN  \n",
       "1                             NaN  \n",
       "2                             NaN  \n",
       "3                             NaN  \n",
       "4                             NaN  \n",
       "5                             NaN  \n",
       "6                             NaN  \n",
       "7                             NaN  \n",
       "8                             NaN  \n",
       "9                             NaN  \n",
       "10                            NaN  \n",
       "11                            NaN  \n",
       "12                            NaN  \n",
       "13                            NaN  \n",
       "14                            NaN  \n",
       "15                            NaN  \n",
       "16                        17979.0  \n",
       "17                        21643.0  \n",
       "18                        25518.0  \n",
       "19                        30903.0  "
      ]
     },
     "execution_count": 4,
     "metadata": {},
     "output_type": "execute_result"
    }
   ],
   "source": [
    "clean_data.head(20)"
   ]
  },
  {
   "cell_type": "code",
   "execution_count": 5,
   "metadata": {},
   "outputs": [
    {
     "data": {
      "text/html": [
       "<div>\n",
       "<style>\n",
       "    .dataframe thead tr:only-child th {\n",
       "        text-align: right;\n",
       "    }\n",
       "\n",
       "    .dataframe thead th {\n",
       "        text-align: left;\n",
       "    }\n",
       "\n",
       "    .dataframe tbody tr th {\n",
       "        vertical-align: top;\n",
       "    }\n",
       "</style>\n",
       "<table border=\"1\" class=\"dataframe\">\n",
       "  <thead>\n",
       "    <tr style=\"text-align: right;\">\n",
       "      <th></th>\n",
       "      <th>Year</th>\n",
       "      <th>Cumulative Installed Solar PV Capacity (MW)</th>\n",
       "      <th>Annual Additions of Installed Solar PV Capacity (MW)</th>\n",
       "      <th>Cumulative Installed Wind Capacity (MW)</th>\n",
       "      <th>Annual Additions of Installed Wind Capacity (MW)</th>\n",
       "      <th>Annual Manufacturing Capacity of Silicon (Metric Tons)</th>\n",
       "      <th>Annual Manufacturing Capacity of PV Cells (MW)</th>\n",
       "      <th>Annual Manufacturing Capacity of PV Modules (MW)</th>\n",
       "      <th>Annual Manufacturing Capacity of Wind Turbines (MW)</th>\n",
       "      <th>Total Solar PV Jobs</th>\n",
       "      <th>Total Solar PV Manufacturing Jobs</th>\n",
       "      <th>Total Wind Jobs</th>\n",
       "      <th>Total Wind Manufacturing Jobs</th>\n",
       "    </tr>\n",
       "  </thead>\n",
       "  <tbody>\n",
       "    <tr>\n",
       "      <th>count</th>\n",
       "      <td>60.000000</td>\n",
       "      <td>49.000000</td>\n",
       "      <td>43.000000</td>\n",
       "      <td>60.000000</td>\n",
       "      <td>56.000000</td>\n",
       "      <td>26.000000</td>\n",
       "      <td>34.000000</td>\n",
       "      <td>35.000000</td>\n",
       "      <td>35.000000</td>\n",
       "      <td>33.000000</td>\n",
       "      <td>10.000000</td>\n",
       "      <td>14.000000</td>\n",
       "      <td>7.000000</td>\n",
       "    </tr>\n",
       "    <tr>\n",
       "      <th>mean</th>\n",
       "      <td>2005.500000</td>\n",
       "      <td>2158.982122</td>\n",
       "      <td>854.897302</td>\n",
       "      <td>11397.466667</td>\n",
       "      <td>2674.410714</td>\n",
       "      <td>24557.692308</td>\n",
       "      <td>2665.485294</td>\n",
       "      <td>2700.585714</td>\n",
       "      <td>7483.350000</td>\n",
       "      <td>56767.969697</td>\n",
       "      <td>6683.100000</td>\n",
       "      <td>73607.142857</td>\n",
       "      <td>29863.285714</td>\n",
       "    </tr>\n",
       "    <tr>\n",
       "      <th>std</th>\n",
       "      <td>3.481184</td>\n",
       "      <td>4445.265019</td>\n",
       "      <td>1651.425978</td>\n",
       "      <td>13599.277712</td>\n",
       "      <td>3996.901349</td>\n",
       "      <td>21857.084400</td>\n",
       "      <td>6233.189754</td>\n",
       "      <td>6347.145838</td>\n",
       "      <td>12574.514256</td>\n",
       "      <td>69293.140158</td>\n",
       "      <td>7017.643835</td>\n",
       "      <td>33900.974896</td>\n",
       "      <td>8307.795410</td>\n",
       "    </tr>\n",
       "    <tr>\n",
       "      <th>min</th>\n",
       "      <td>2000.000000</td>\n",
       "      <td>2.120000</td>\n",
       "      <td>6.100000</td>\n",
       "      <td>136.000000</td>\n",
       "      <td>36.000000</td>\n",
       "      <td>1500.000000</td>\n",
       "      <td>6.000000</td>\n",
       "      <td>21.000000</td>\n",
       "      <td>250.000000</td>\n",
       "      <td>1100.000000</td>\n",
       "      <td>500.000000</td>\n",
       "      <td>25000.000000</td>\n",
       "      <td>17979.000000</td>\n",
       "    </tr>\n",
       "    <tr>\n",
       "      <th>25%</th>\n",
       "      <td>2002.750000</td>\n",
       "      <td>101.000000</td>\n",
       "      <td>91.500000</td>\n",
       "      <td>1536.250000</td>\n",
       "      <td>260.250000</td>\n",
       "      <td>8300.000000</td>\n",
       "      <td>276.375000</td>\n",
       "      <td>379.750000</td>\n",
       "      <td>1527.250000</td>\n",
       "      <td>12000.000000</td>\n",
       "      <td>2625.000000</td>\n",
       "      <td>46500.000000</td>\n",
       "      <td>23580.500000</td>\n",
       "    </tr>\n",
       "    <tr>\n",
       "      <th>50%</th>\n",
       "      <td>2005.500000</td>\n",
       "      <td>481.480000</td>\n",
       "      <td>225.300000</td>\n",
       "      <td>6182.500000</td>\n",
       "      <td>1665.000000</td>\n",
       "      <td>19250.000000</td>\n",
       "      <td>909.500000</td>\n",
       "      <td>1054.500000</td>\n",
       "      <td>4080.000000</td>\n",
       "      <td>29600.000000</td>\n",
       "      <td>6105.000000</td>\n",
       "      <td>67500.000000</td>\n",
       "      <td>30903.000000</td>\n",
       "    </tr>\n",
       "    <tr>\n",
       "      <th>75%</th>\n",
       "      <td>2008.250000</td>\n",
       "      <td>2099.000000</td>\n",
       "      <td>870.500000</td>\n",
       "      <td>16677.750000</td>\n",
       "      <td>2480.750000</td>\n",
       "      <td>33975.000000</td>\n",
       "      <td>2070.750000</td>\n",
       "      <td>1491.750000</td>\n",
       "      <td>6717.750000</td>\n",
       "      <td>82800.000000</td>\n",
       "      <td>7625.000000</td>\n",
       "      <td>95975.000000</td>\n",
       "      <td>37000.000000</td>\n",
       "    </tr>\n",
       "    <tr>\n",
       "      <th>max</th>\n",
       "      <td>2011.000000</td>\n",
       "      <td>24820.000000</td>\n",
       "      <td>7500.000000</td>\n",
       "      <td>62364.000000</td>\n",
       "      <td>18928.000000</td>\n",
       "      <td>90100.000000</td>\n",
       "      <td>33286.000000</td>\n",
       "      <td>33060.000000</td>\n",
       "      <td>61353.000000</td>\n",
       "      <td>300000.000000</td>\n",
       "      <td>24916.000000</td>\n",
       "      <td>150000.000000</td>\n",
       "      <td>39000.000000</td>\n",
       "    </tr>\n",
       "  </tbody>\n",
       "</table>\n",
       "</div>"
      ],
      "text/plain": [
       "              Year  Cumulative Installed Solar PV Capacity (MW)  \\\n",
       "count    60.000000                                    49.000000   \n",
       "mean   2005.500000                                  2158.982122   \n",
       "std       3.481184                                  4445.265019   \n",
       "min    2000.000000                                     2.120000   \n",
       "25%    2002.750000                                   101.000000   \n",
       "50%    2005.500000                                   481.480000   \n",
       "75%    2008.250000                                  2099.000000   \n",
       "max    2011.000000                                 24820.000000   \n",
       "\n",
       "       Annual Additions of Installed Solar PV Capacity (MW)  \\\n",
       "count                                          43.000000      \n",
       "mean                                          854.897302      \n",
       "std                                          1651.425978      \n",
       "min                                             6.100000      \n",
       "25%                                            91.500000      \n",
       "50%                                           225.300000      \n",
       "75%                                           870.500000      \n",
       "max                                          7500.000000      \n",
       "\n",
       "       Cumulative Installed Wind Capacity (MW)  \\\n",
       "count                                60.000000   \n",
       "mean                              11397.466667   \n",
       "std                               13599.277712   \n",
       "min                                 136.000000   \n",
       "25%                                1536.250000   \n",
       "50%                                6182.500000   \n",
       "75%                               16677.750000   \n",
       "max                               62364.000000   \n",
       "\n",
       "       Annual Additions of Installed Wind Capacity (MW)  \\\n",
       "count                                         56.000000   \n",
       "mean                                        2674.410714   \n",
       "std                                         3996.901349   \n",
       "min                                           36.000000   \n",
       "25%                                          260.250000   \n",
       "50%                                         1665.000000   \n",
       "75%                                         2480.750000   \n",
       "max                                        18928.000000   \n",
       "\n",
       "       Annual Manufacturing Capacity of Silicon (Metric Tons)  \\\n",
       "count                                          26.000000        \n",
       "mean                                        24557.692308        \n",
       "std                                         21857.084400        \n",
       "min                                          1500.000000        \n",
       "25%                                          8300.000000        \n",
       "50%                                         19250.000000        \n",
       "75%                                         33975.000000        \n",
       "max                                         90100.000000        \n",
       "\n",
       "       Annual Manufacturing Capacity of PV Cells (MW)  \\\n",
       "count                                       34.000000   \n",
       "mean                                      2665.485294   \n",
       "std                                       6233.189754   \n",
       "min                                          6.000000   \n",
       "25%                                        276.375000   \n",
       "50%                                        909.500000   \n",
       "75%                                       2070.750000   \n",
       "max                                      33286.000000   \n",
       "\n",
       "       Annual Manufacturing Capacity of PV Modules (MW)  \\\n",
       "count                                         35.000000   \n",
       "mean                                        2700.585714   \n",
       "std                                         6347.145838   \n",
       "min                                           21.000000   \n",
       "25%                                          379.750000   \n",
       "50%                                         1054.500000   \n",
       "75%                                         1491.750000   \n",
       "max                                        33060.000000   \n",
       "\n",
       "       Annual Manufacturing Capacity of Wind Turbines (MW)  \\\n",
       "count                                          35.000000     \n",
       "mean                                         7483.350000     \n",
       "std                                         12574.514256     \n",
       "min                                           250.000000     \n",
       "25%                                          1527.250000     \n",
       "50%                                          4080.000000     \n",
       "75%                                          6717.750000     \n",
       "max                                         61353.000000     \n",
       "\n",
       "       Total Solar PV Jobs  Total Solar PV Manufacturing Jobs  \\\n",
       "count            33.000000                          10.000000   \n",
       "mean          56767.969697                        6683.100000   \n",
       "std           69293.140158                        7017.643835   \n",
       "min            1100.000000                         500.000000   \n",
       "25%           12000.000000                        2625.000000   \n",
       "50%           29600.000000                        6105.000000   \n",
       "75%           82800.000000                        7625.000000   \n",
       "max          300000.000000                       24916.000000   \n",
       "\n",
       "       Total Wind Jobs  Total Wind Manufacturing Jobs  \n",
       "count        14.000000                       7.000000  \n",
       "mean      73607.142857                   29863.285714  \n",
       "std       33900.974896                    8307.795410  \n",
       "min       25000.000000                   17979.000000  \n",
       "25%       46500.000000                   23580.500000  \n",
       "50%       67500.000000                   30903.000000  \n",
       "75%       95975.000000                   37000.000000  \n",
       "max      150000.000000                   39000.000000  "
      ]
     },
     "execution_count": 5,
     "metadata": {},
     "output_type": "execute_result"
    }
   ],
   "source": [
    "clean_data.describe()"
   ]
  },
  {
   "cell_type": "code",
   "execution_count": 6,
   "metadata": {},
   "outputs": [
    {
     "data": {
      "text/plain": [
       "(60, 14)"
      ]
     },
     "execution_count": 6,
     "metadata": {},
     "output_type": "execute_result"
    }
   ],
   "source": [
    "clean_data.shape"
   ]
  },
  {
   "cell_type": "code",
   "execution_count": 7,
   "metadata": {},
   "outputs": [
    {
     "data": {
      "text/plain": [
       "array(['China', 'Germany', 'India', 'Japan', 'United States'], dtype=object)"
      ]
     },
     "execution_count": 7,
     "metadata": {},
     "output_type": "execute_result"
    }
   ],
   "source": [
    "clean_data['Country'].unique()"
   ]
  },
  {
   "cell_type": "code",
   "execution_count": 8,
   "metadata": {},
   "outputs": [
    {
     "data": {
      "text/plain": [
       "India            12\n",
       "China            12\n",
       "Japan            12\n",
       "United States    12\n",
       "Germany          12\n",
       "Name: Country, dtype: int64"
      ]
     },
     "execution_count": 8,
     "metadata": {},
     "output_type": "execute_result"
    }
   ],
   "source": [
    "clean_data['Country'].value_counts()"
   ]
  },
  {
   "cell_type": "code",
   "execution_count": 8,
   "metadata": {},
   "outputs": [
    {
     "data": {
      "text/html": [
       "<div>\n",
       "<style>\n",
       "    .dataframe thead tr:only-child th {\n",
       "        text-align: right;\n",
       "    }\n",
       "\n",
       "    .dataframe thead th {\n",
       "        text-align: left;\n",
       "    }\n",
       "\n",
       "    .dataframe tbody tr th {\n",
       "        vertical-align: top;\n",
       "    }\n",
       "</style>\n",
       "<table border=\"1\" class=\"dataframe\">\n",
       "  <thead>\n",
       "    <tr style=\"text-align: right;\">\n",
       "      <th></th>\n",
       "      <th>Year</th>\n",
       "      <th>Cumulative Installed Solar PV Capacity (MW)</th>\n",
       "      <th>Annual Additions of Installed Solar PV Capacity (MW)</th>\n",
       "      <th>Cumulative Installed Wind Capacity (MW)</th>\n",
       "      <th>Annual Additions of Installed Wind Capacity (MW)</th>\n",
       "      <th>Annual Manufacturing Capacity of Silicon (Metric Tons)</th>\n",
       "      <th>Annual Manufacturing Capacity of PV Cells (MW)</th>\n",
       "      <th>Annual Manufacturing Capacity of PV Modules (MW)</th>\n",
       "      <th>Annual Manufacturing Capacity of Wind Turbines (MW)</th>\n",
       "      <th>Total Solar PV Jobs</th>\n",
       "      <th>Total Solar PV Manufacturing Jobs</th>\n",
       "      <th>Total Wind Jobs</th>\n",
       "      <th>Total Wind Manufacturing Jobs</th>\n",
       "    </tr>\n",
       "  </thead>\n",
       "  <tbody>\n",
       "    <tr>\n",
       "      <th>count</th>\n",
       "      <td>60.000000</td>\n",
       "      <td>60.000000</td>\n",
       "      <td>60.000000</td>\n",
       "      <td>60.000000</td>\n",
       "      <td>60.000000</td>\n",
       "      <td>60.000000</td>\n",
       "      <td>60.000000</td>\n",
       "      <td>60.000000</td>\n",
       "      <td>60.000000</td>\n",
       "      <td>60.000000</td>\n",
       "      <td>60.000000</td>\n",
       "      <td>60.000000</td>\n",
       "      <td>60.000000</td>\n",
       "    </tr>\n",
       "    <tr>\n",
       "      <th>mean</th>\n",
       "      <td>2005.500000</td>\n",
       "      <td>1763.168733</td>\n",
       "      <td>612.676400</td>\n",
       "      <td>11397.466667</td>\n",
       "      <td>2496.116667</td>\n",
       "      <td>10641.666667</td>\n",
       "      <td>1510.441667</td>\n",
       "      <td>1575.341667</td>\n",
       "      <td>4365.287500</td>\n",
       "      <td>31222.383333</td>\n",
       "      <td>1113.850000</td>\n",
       "      <td>17175.000000</td>\n",
       "      <td>3484.050000</td>\n",
       "    </tr>\n",
       "    <tr>\n",
       "      <th>std</th>\n",
       "      <td>3.481184</td>\n",
       "      <td>4097.066829</td>\n",
       "      <td>1446.485558</td>\n",
       "      <td>13599.277712</td>\n",
       "      <td>3917.236327</td>\n",
       "      <td>18789.054618</td>\n",
       "      <td>4848.230780</td>\n",
       "      <td>5001.849624</td>\n",
       "      <td>10245.048621</td>\n",
       "      <td>58440.887435</td>\n",
       "      <td>3717.627437</td>\n",
       "      <td>35197.725394</td>\n",
       "      <td>10024.133048</td>\n",
       "    </tr>\n",
       "    <tr>\n",
       "      <th>min</th>\n",
       "      <td>2000.000000</td>\n",
       "      <td>0.000000</td>\n",
       "      <td>0.000000</td>\n",
       "      <td>136.000000</td>\n",
       "      <td>0.000000</td>\n",
       "      <td>0.000000</td>\n",
       "      <td>0.000000</td>\n",
       "      <td>0.000000</td>\n",
       "      <td>0.000000</td>\n",
       "      <td>0.000000</td>\n",
       "      <td>0.000000</td>\n",
       "      <td>0.000000</td>\n",
       "      <td>0.000000</td>\n",
       "    </tr>\n",
       "    <tr>\n",
       "      <th>25%</th>\n",
       "      <td>2002.750000</td>\n",
       "      <td>7.577500</td>\n",
       "      <td>0.000000</td>\n",
       "      <td>1536.250000</td>\n",
       "      <td>249.750000</td>\n",
       "      <td>0.000000</td>\n",
       "      <td>0.000000</td>\n",
       "      <td>0.000000</td>\n",
       "      <td>0.000000</td>\n",
       "      <td>0.000000</td>\n",
       "      <td>0.000000</td>\n",
       "      <td>0.000000</td>\n",
       "      <td>0.000000</td>\n",
       "    </tr>\n",
       "    <tr>\n",
       "      <th>50%</th>\n",
       "      <td>2005.500000</td>\n",
       "      <td>322.600000</td>\n",
       "      <td>114.500000</td>\n",
       "      <td>6182.500000</td>\n",
       "      <td>1563.000000</td>\n",
       "      <td>0.000000</td>\n",
       "      <td>100.000000</td>\n",
       "      <td>181.000000</td>\n",
       "      <td>1050.000000</td>\n",
       "      <td>3550.000000</td>\n",
       "      <td>0.000000</td>\n",
       "      <td>0.000000</td>\n",
       "      <td>0.000000</td>\n",
       "    </tr>\n",
       "    <tr>\n",
       "      <th>75%</th>\n",
       "      <td>2008.250000</td>\n",
       "      <td>1761.100000</td>\n",
       "      <td>454.912500</td>\n",
       "      <td>16677.750000</td>\n",
       "      <td>2424.500000</td>\n",
       "      <td>11725.000000</td>\n",
       "      <td>1042.250000</td>\n",
       "      <td>1120.875000</td>\n",
       "      <td>4470.000000</td>\n",
       "      <td>36875.000000</td>\n",
       "      <td>0.000000</td>\n",
       "      <td>0.000000</td>\n",
       "      <td>0.000000</td>\n",
       "    </tr>\n",
       "    <tr>\n",
       "      <th>max</th>\n",
       "      <td>2011.000000</td>\n",
       "      <td>24820.000000</td>\n",
       "      <td>7500.000000</td>\n",
       "      <td>62364.000000</td>\n",
       "      <td>18928.000000</td>\n",
       "      <td>90100.000000</td>\n",
       "      <td>33286.000000</td>\n",
       "      <td>33060.000000</td>\n",
       "      <td>61353.000000</td>\n",
       "      <td>300000.000000</td>\n",
       "      <td>24916.000000</td>\n",
       "      <td>150000.000000</td>\n",
       "      <td>39000.000000</td>\n",
       "    </tr>\n",
       "  </tbody>\n",
       "</table>\n",
       "</div>"
      ],
      "text/plain": [
       "              Year  Cumulative Installed Solar PV Capacity (MW)  \\\n",
       "count    60.000000                                    60.000000   \n",
       "mean   2005.500000                                  1763.168733   \n",
       "std       3.481184                                  4097.066829   \n",
       "min    2000.000000                                     0.000000   \n",
       "25%    2002.750000                                     7.577500   \n",
       "50%    2005.500000                                   322.600000   \n",
       "75%    2008.250000                                  1761.100000   \n",
       "max    2011.000000                                 24820.000000   \n",
       "\n",
       "       Annual Additions of Installed Solar PV Capacity (MW)  \\\n",
       "count                                          60.000000      \n",
       "mean                                          612.676400      \n",
       "std                                          1446.485558      \n",
       "min                                             0.000000      \n",
       "25%                                             0.000000      \n",
       "50%                                           114.500000      \n",
       "75%                                           454.912500      \n",
       "max                                          7500.000000      \n",
       "\n",
       "       Cumulative Installed Wind Capacity (MW)  \\\n",
       "count                                60.000000   \n",
       "mean                              11397.466667   \n",
       "std                               13599.277712   \n",
       "min                                 136.000000   \n",
       "25%                                1536.250000   \n",
       "50%                                6182.500000   \n",
       "75%                               16677.750000   \n",
       "max                               62364.000000   \n",
       "\n",
       "       Annual Additions of Installed Wind Capacity (MW)  \\\n",
       "count                                         60.000000   \n",
       "mean                                        2496.116667   \n",
       "std                                         3917.236327   \n",
       "min                                            0.000000   \n",
       "25%                                          249.750000   \n",
       "50%                                         1563.000000   \n",
       "75%                                         2424.500000   \n",
       "max                                        18928.000000   \n",
       "\n",
       "       Annual Manufacturing Capacity of Silicon (Metric Tons)  \\\n",
       "count                                          60.000000        \n",
       "mean                                        10641.666667        \n",
       "std                                         18789.054618        \n",
       "min                                             0.000000        \n",
       "25%                                             0.000000        \n",
       "50%                                             0.000000        \n",
       "75%                                         11725.000000        \n",
       "max                                         90100.000000        \n",
       "\n",
       "       Annual Manufacturing Capacity of PV Cells (MW)  \\\n",
       "count                                       60.000000   \n",
       "mean                                      1510.441667   \n",
       "std                                       4848.230780   \n",
       "min                                          0.000000   \n",
       "25%                                          0.000000   \n",
       "50%                                        100.000000   \n",
       "75%                                       1042.250000   \n",
       "max                                      33286.000000   \n",
       "\n",
       "       Annual Manufacturing Capacity of PV Modules (MW)  \\\n",
       "count                                         60.000000   \n",
       "mean                                        1575.341667   \n",
       "std                                         5001.849624   \n",
       "min                                            0.000000   \n",
       "25%                                            0.000000   \n",
       "50%                                          181.000000   \n",
       "75%                                         1120.875000   \n",
       "max                                        33060.000000   \n",
       "\n",
       "       Annual Manufacturing Capacity of Wind Turbines (MW)  \\\n",
       "count                                          60.000000     \n",
       "mean                                         4365.287500     \n",
       "std                                         10245.048621     \n",
       "min                                             0.000000     \n",
       "25%                                             0.000000     \n",
       "50%                                          1050.000000     \n",
       "75%                                          4470.000000     \n",
       "max                                         61353.000000     \n",
       "\n",
       "       Total Solar PV Jobs  Total Solar PV Manufacturing Jobs  \\\n",
       "count            60.000000                          60.000000   \n",
       "mean          31222.383333                        1113.850000   \n",
       "std           58440.887435                        3717.627437   \n",
       "min               0.000000                           0.000000   \n",
       "25%               0.000000                           0.000000   \n",
       "50%            3550.000000                           0.000000   \n",
       "75%           36875.000000                           0.000000   \n",
       "max          300000.000000                       24916.000000   \n",
       "\n",
       "       Total Wind Jobs  Total Wind Manufacturing Jobs  \n",
       "count        60.000000                      60.000000  \n",
       "mean      17175.000000                    3484.050000  \n",
       "std       35197.725394                   10024.133048  \n",
       "min           0.000000                       0.000000  \n",
       "25%           0.000000                       0.000000  \n",
       "50%           0.000000                       0.000000  \n",
       "75%           0.000000                       0.000000  \n",
       "max      150000.000000                   39000.000000  "
      ]
     },
     "execution_count": 8,
     "metadata": {},
     "output_type": "execute_result"
    }
   ],
   "source": [
    "clean_data = clean_data.fillna(value = 0)\n",
    "clean_data.describe()"
   ]
  },
  {
   "cell_type": "code",
   "execution_count": 9,
   "metadata": {
    "collapsed": true
   },
   "outputs": [],
   "source": [
    "col_names = list(clean_data)"
   ]
  },
  {
   "cell_type": "code",
   "execution_count": 10,
   "metadata": {
    "collapsed": true
   },
   "outputs": [],
   "source": [
    "  clean_data.columns =  ['Country',\n",
    " 'Year',\n",
    " 'cum_solar_capMW',\n",
    " 'annual_add_solarMW',\n",
    " 'cum_wind_capMW',\n",
    " 'annual_add_wind_capMW',\n",
    " 'annual_mnf_cap_siliconMT',\n",
    " 'annual_mnf_cap_pvcellMW',\n",
    " 'annual_mnf_cap_pvmodulesMW',\n",
    " 'annual_mnf_cap_wind_turbineMW',\n",
    " 'total_solar_pv_jobs',\n",
    " 'total_solar_pv_mnf_jobs',\n",
    " 'total_wind_jobs',\n",
    " 'total_wind_mnf_jobs']"
   ]
  },
  {
   "cell_type": "code",
   "execution_count": 11,
   "metadata": {},
   "outputs": [
    {
     "data": {
      "text/html": [
       "<div>\n",
       "<style>\n",
       "    .dataframe thead tr:only-child th {\n",
       "        text-align: right;\n",
       "    }\n",
       "\n",
       "    .dataframe thead th {\n",
       "        text-align: left;\n",
       "    }\n",
       "\n",
       "    .dataframe tbody tr th {\n",
       "        vertical-align: top;\n",
       "    }\n",
       "</style>\n",
       "<table border=\"1\" class=\"dataframe\">\n",
       "  <thead>\n",
       "    <tr style=\"text-align: right;\">\n",
       "      <th></th>\n",
       "      <th>Country</th>\n",
       "      <th>Year</th>\n",
       "      <th>cum_solar_capMW</th>\n",
       "      <th>annual_add_solarMW</th>\n",
       "      <th>cum_wind_capMW</th>\n",
       "      <th>annual_add_wind_capMW</th>\n",
       "      <th>annual_mnf_cap_siliconMT</th>\n",
       "      <th>annual_mnf_cap_pvcellMW</th>\n",
       "      <th>annual_mnf_cap_pvmodulesMW</th>\n",
       "      <th>annual_mnf_cap_wind_turbineMW</th>\n",
       "      <th>total_solar_pv_jobs</th>\n",
       "      <th>total_solar_pv_mnf_jobs</th>\n",
       "      <th>total_wind_jobs</th>\n",
       "      <th>total_wind_mnf_jobs</th>\n",
       "    </tr>\n",
       "  </thead>\n",
       "  <tbody>\n",
       "    <tr>\n",
       "      <th>0</th>\n",
       "      <td>China</td>\n",
       "      <td>2000</td>\n",
       "      <td>0.0</td>\n",
       "      <td>0.0</td>\n",
       "      <td>346</td>\n",
       "      <td>0.0</td>\n",
       "      <td>0.0</td>\n",
       "      <td>0.0</td>\n",
       "      <td>0.0</td>\n",
       "      <td>0.0</td>\n",
       "      <td>0.0</td>\n",
       "      <td>0.0</td>\n",
       "      <td>0.0</td>\n",
       "      <td>0.0</td>\n",
       "    </tr>\n",
       "    <tr>\n",
       "      <th>1</th>\n",
       "      <td>China</td>\n",
       "      <td>2001</td>\n",
       "      <td>0.0</td>\n",
       "      <td>0.0</td>\n",
       "      <td>402</td>\n",
       "      <td>56.0</td>\n",
       "      <td>0.0</td>\n",
       "      <td>0.0</td>\n",
       "      <td>0.0</td>\n",
       "      <td>0.0</td>\n",
       "      <td>0.0</td>\n",
       "      <td>0.0</td>\n",
       "      <td>0.0</td>\n",
       "      <td>0.0</td>\n",
       "    </tr>\n",
       "    <tr>\n",
       "      <th>2</th>\n",
       "      <td>China</td>\n",
       "      <td>2002</td>\n",
       "      <td>0.0</td>\n",
       "      <td>0.0</td>\n",
       "      <td>469</td>\n",
       "      <td>67.0</td>\n",
       "      <td>0.0</td>\n",
       "      <td>0.0</td>\n",
       "      <td>0.0</td>\n",
       "      <td>0.0</td>\n",
       "      <td>0.0</td>\n",
       "      <td>0.0</td>\n",
       "      <td>0.0</td>\n",
       "      <td>0.0</td>\n",
       "    </tr>\n",
       "    <tr>\n",
       "      <th>3</th>\n",
       "      <td>China</td>\n",
       "      <td>2003</td>\n",
       "      <td>0.0</td>\n",
       "      <td>0.0</td>\n",
       "      <td>567</td>\n",
       "      <td>98.0</td>\n",
       "      <td>0.0</td>\n",
       "      <td>0.0</td>\n",
       "      <td>0.0</td>\n",
       "      <td>0.0</td>\n",
       "      <td>0.0</td>\n",
       "      <td>0.0</td>\n",
       "      <td>0.0</td>\n",
       "      <td>0.0</td>\n",
       "    </tr>\n",
       "    <tr>\n",
       "      <th>4</th>\n",
       "      <td>China</td>\n",
       "      <td>2004</td>\n",
       "      <td>62.1</td>\n",
       "      <td>10.0</td>\n",
       "      <td>764</td>\n",
       "      <td>197.0</td>\n",
       "      <td>0.0</td>\n",
       "      <td>0.0</td>\n",
       "      <td>0.0</td>\n",
       "      <td>0.0</td>\n",
       "      <td>0.0</td>\n",
       "      <td>0.0</td>\n",
       "      <td>0.0</td>\n",
       "      <td>0.0</td>\n",
       "    </tr>\n",
       "  </tbody>\n",
       "</table>\n",
       "</div>"
      ],
      "text/plain": [
       "  Country  Year  cum_solar_capMW  annual_add_solarMW  cum_wind_capMW  \\\n",
       "0   China  2000              0.0                 0.0             346   \n",
       "1   China  2001              0.0                 0.0             402   \n",
       "2   China  2002              0.0                 0.0             469   \n",
       "3   China  2003              0.0                 0.0             567   \n",
       "4   China  2004             62.1                10.0             764   \n",
       "\n",
       "   annual_add_wind_capMW  annual_mnf_cap_siliconMT  annual_mnf_cap_pvcellMW  \\\n",
       "0                    0.0                       0.0                      0.0   \n",
       "1                   56.0                       0.0                      0.0   \n",
       "2                   67.0                       0.0                      0.0   \n",
       "3                   98.0                       0.0                      0.0   \n",
       "4                  197.0                       0.0                      0.0   \n",
       "\n",
       "   annual_mnf_cap_pvmodulesMW  annual_mnf_cap_wind_turbineMW  \\\n",
       "0                         0.0                            0.0   \n",
       "1                         0.0                            0.0   \n",
       "2                         0.0                            0.0   \n",
       "3                         0.0                            0.0   \n",
       "4                         0.0                            0.0   \n",
       "\n",
       "   total_solar_pv_jobs  total_solar_pv_mnf_jobs  total_wind_jobs  \\\n",
       "0                  0.0                      0.0              0.0   \n",
       "1                  0.0                      0.0              0.0   \n",
       "2                  0.0                      0.0              0.0   \n",
       "3                  0.0                      0.0              0.0   \n",
       "4                  0.0                      0.0              0.0   \n",
       "\n",
       "   total_wind_mnf_jobs  \n",
       "0                  0.0  \n",
       "1                  0.0  \n",
       "2                  0.0  \n",
       "3                  0.0  \n",
       "4                  0.0  "
      ]
     },
     "execution_count": 11,
     "metadata": {},
     "output_type": "execute_result"
    }
   ],
   "source": [
    "clean_data.head()"
   ]
  },
  {
   "cell_type": "code",
   "execution_count": 47,
   "metadata": {},
   "outputs": [
    {
     "data": {
      "text/plain": [
       "<matplotlib.axes._subplots.AxesSubplot at 0x1a4da67e160>"
      ]
     },
     "execution_count": 47,
     "metadata": {},
     "output_type": "execute_result"
    },
    {
     "data": {
      "image/png": "[encoded data removed]",
      "text/plain": [
       "<matplotlib.figure.Figure at 0x1a4da35c828>"
      ]
     },
     "metadata": {},
     "output_type": "display_data"
    }
   ],
   "source": [
    "import seaborn as sns \n",
    "sns.barplot(y= 'cum_solar_capMW', x= 'Year', hue = 'Country', data = clean_data)"
   ]
  },
  {
   "cell_type": "code",
   "execution_count": 39,
   "metadata": {},
   "outputs": [
    {
     "data": {
      "text/plain": [
       "<matplotlib.axes._subplots.AxesSubplot at 0x17574b49780>"
      ]
     },
     "execution_count": 39,
     "metadata": {},
     "output_type": "execute_result"
    },
    {
     "data": {
      "image/png": "[encoded data removed]",
      "text/plain": [
       "<matplotlib.figure.Figure at 0x17574c8e400>"
      ]
     },
     "metadata": {},
     "output_type": "display_data"
    }
   ],
   "source": [
    "sns.barplot(y= 'cum_wind_capMW', x= 'Year', hue = 'Country', data = clean_data)"
   ]
  },
  {
   "cell_type": "code",
   "execution_count": 40,
   "metadata": {},
   "outputs": [
    {
     "data": {
      "text/plain": [
       "<matplotlib.axes._subplots.AxesSubplot at 0x17574e3ec18>"
      ]
     },
     "execution_count": 40,
     "metadata": {},
     "output_type": "execute_result"
    },
    {
     "data": {
      "image/png": "[encoded data removed]",
      "text/plain": [
       "<matplotlib.figure.Figure at 0x17574ecafd0>"
      ]
     },
     "metadata": {},
     "output_type": "display_data"
    }
   ],
   "source": [
    "sns.barplot(y= 'annual_add_solarMW', x= 'Year', hue = 'Country', data = clean_data)"
   ]
  },
  {
   "cell_type": "code",
   "execution_count": 41,
   "metadata": {},
   "outputs": [
    {
     "data": {
      "text/plain": [
       "<matplotlib.axes._subplots.AxesSubplot at 0x17574fd0be0>"
      ]
     },
     "execution_count": 41,
     "metadata": {},
     "output_type": "execute_result"
    },
    {
     "data": {
      "image/png": "[encoded data removed]",
      "text/plain": [
       "<matplotlib.figure.Figure at 0x17575015080>"
      ]
     },
     "metadata": {},
     "output_type": "display_data"
    }
   ],
   "source": [
    "sns.barplot(y= 'annual_add_wind_capMW', x= 'Year', hue = 'Country', data = clean_data)\n"
   ]
  },
  {
   "cell_type": "code",
   "execution_count": 14,
   "metadata": {
    "collapsed": true
   },
   "outputs": [],
   "source": [
    "col_names = list(clean_data)"
   ]
  },
  {
   "cell_type": "code",
   "execution_count": 15,
   "metadata": {},
   "outputs": [
    {
     "data": {
      "image/png": "[encoded data removed]",
      "text/plain": [
       "<matplotlib.figure.Figure at 0x1a4d9969860>"
      ]
     },
     "metadata": {},
     "output_type": "display_data"
    },
    {
     "data": {
      "image/png": "[encoded data removed]",
      "text/plain": [
       "<matplotlib.figure.Figure at 0x1a4d77fb978>"
      ]
     },
     "metadata": {},
     "output_type": "display_data"
    },
    {
     "data": {
      "image/png": "[encoded data removed]",
      "text/plain": [
       "<matplotlib.figure.Figure at 0x1a4d9c50668>"
      ]
     },
     "metadata": {},
     "output_type": "display_data"
    },
    {
     "data": {
      "image/png": "[encoded data removed]",
      "text/plain": [
       "<matplotlib.figure.Figure at 0x1a4d9dc0f60>"
      ]
     },
     "metadata": {},
     "output_type": "display_data"
    },
    {
     "data": {
      "image/png": "[encoded data removed]",
      "text/plain": [
       "<matplotlib.figure.Figure at 0x1a4d9f28f60>"
      ]
     },
     "metadata": {},
     "output_type": "display_data"
    },
    {
     "data": {
      "image/png": "[encoded data removed]",
      "text/plain": [
       "<matplotlib.figure.Figure at 0x1a4d9f3e048>"
      ]
     },
     "metadata": {},
     "output_type": "display_data"
    },
    {
     "data": {
      "image/png": "[encoded data removed]",
      "text/plain": [
       "<matplotlib.figure.Figure at 0x1a4da20c0f0>"
      ]
     },
     "metadata": {},
     "output_type": "display_data"
    },
    {
     "data": {
      "image/png": "[encoded data removed]",
      "text/plain": [
       "<matplotlib.figure.Figure at 0x1a4da37be10>"
      ]
     },
     "metadata": {},
     "output_type": "display_data"
    },
    {
     "data": {
      "image/png": "[encoded data removed]",
      "text/plain": [
       "<matplotlib.figure.Figure at 0x1a4da4ebba8>"
      ]
     },
     "metadata": {},
     "output_type": "display_data"
    },
    {
     "data": {
      "image/png": "[encoded data removed]",
      "text/plain": [
       "<matplotlib.figure.Figure at 0x1a4da657630>"
      ]
     },
     "metadata": {},
     "output_type": "display_data"
    },
    {
     "data": {
      "image/png": "[encoded data removed]",
      "text/plain": [
       "<matplotlib.figure.Figure at 0x1a4da7d8438>"
      ]
     },
     "metadata": {},
     "output_type": "display_data"
    },
    {
     "data": {
      "image/png": "[encoded data removed]",
      "text/plain": [
       "<matplotlib.figure.Figure at 0x1a4da93d8d0>"
      ]
     },
     "metadata": {},
     "output_type": "display_data"
    }
   ],
   "source": [
    "for i in col_names[2:]:\n",
    "    plt.figure(i)\n",
    "    sns.barplot(y= i, x= 'Year', hue = 'Country', data = clean_data)\n",
    "    "
   ]
  },
  {
   "cell_type": "code",
   "execution_count": 26,
   "metadata": {},
   "outputs": [
    {
     "data": {
      "text/html": [
       "<div>\n",
       "<style>\n",
       "    .dataframe thead tr:only-child th {\n",
       "        text-align: right;\n",
       "    }\n",
       "\n",
       "    .dataframe thead th {\n",
       "        text-align: left;\n",
       "    }\n",
       "\n",
       "    .dataframe tbody tr th {\n",
       "        vertical-align: top;\n",
       "    }\n",
       "</style>\n",
       "<table border=\"1\" class=\"dataframe\">\n",
       "  <thead>\n",
       "    <tr style=\"text-align: right;\">\n",
       "      <th></th>\n",
       "      <th>cum_solar_capMW</th>\n",
       "      <th>annual_add_solarMW</th>\n",
       "      <th>total_solar_pv_jobs</th>\n",
       "      <th>total_solar_pv_mnf_jobs</th>\n",
       "    </tr>\n",
       "  </thead>\n",
       "  <tbody>\n",
       "    <tr>\n",
       "      <th>cum_solar_capMW</th>\n",
       "      <td>1.000000</td>\n",
       "      <td>0.999154</td>\n",
       "      <td>0.048463</td>\n",
       "      <td>NaN</td>\n",
       "    </tr>\n",
       "    <tr>\n",
       "      <th>annual_add_solarMW</th>\n",
       "      <td>0.999154</td>\n",
       "      <td>1.000000</td>\n",
       "      <td>0.018489</td>\n",
       "      <td>NaN</td>\n",
       "    </tr>\n",
       "    <tr>\n",
       "      <th>total_solar_pv_jobs</th>\n",
       "      <td>0.048463</td>\n",
       "      <td>0.018489</td>\n",
       "      <td>1.000000</td>\n",
       "      <td>NaN</td>\n",
       "    </tr>\n",
       "    <tr>\n",
       "      <th>total_solar_pv_mnf_jobs</th>\n",
       "      <td>NaN</td>\n",
       "      <td>NaN</td>\n",
       "      <td>NaN</td>\n",
       "      <td>NaN</td>\n",
       "    </tr>\n",
       "  </tbody>\n",
       "</table>\n",
       "</div>"
      ],
      "text/plain": [
       "                         cum_solar_capMW  annual_add_solarMW  \\\n",
       "cum_solar_capMW                 1.000000            0.999154   \n",
       "annual_add_solarMW              0.999154            1.000000   \n",
       "total_solar_pv_jobs             0.048463            0.018489   \n",
       "total_solar_pv_mnf_jobs              NaN                 NaN   \n",
       "\n",
       "                         total_solar_pv_jobs  total_solar_pv_mnf_jobs  \n",
       "cum_solar_capMW                     0.048463                      NaN  \n",
       "annual_add_solarMW                  0.018489                      NaN  \n",
       "total_solar_pv_jobs                 1.000000                      NaN  \n",
       "total_solar_pv_mnf_jobs                  NaN                      NaN  "
      ]
     },
     "execution_count": 26,
     "metadata": {},
     "output_type": "execute_result"
    }
   ],
   "source": [
    "clean_data.loc[clean_data['Country'] == 'China',['cum_solar_capMW','annual_add_solarMW','total_solar_pv_jobs','total_solar_pv_mnf_jobs']].corr()"
   ]
  },
  {
   "cell_type": "code",
   "execution_count": 27,
   "metadata": {},
   "outputs": [
    {
     "data": {
      "text/html": [
       "<div>\n",
       "<style>\n",
       "    .dataframe thead tr:only-child th {\n",
       "        text-align: right;\n",
       "    }\n",
       "\n",
       "    .dataframe thead th {\n",
       "        text-align: left;\n",
       "    }\n",
       "\n",
       "    .dataframe tbody tr th {\n",
       "        vertical-align: top;\n",
       "    }\n",
       "</style>\n",
       "<table border=\"1\" class=\"dataframe\">\n",
       "  <thead>\n",
       "    <tr style=\"text-align: right;\">\n",
       "      <th></th>\n",
       "      <th>cum_solar_capMW</th>\n",
       "      <th>annual_add_solarMW</th>\n",
       "      <th>total_solar_pv_jobs</th>\n",
       "      <th>total_solar_pv_mnf_jobs</th>\n",
       "    </tr>\n",
       "  </thead>\n",
       "  <tbody>\n",
       "    <tr>\n",
       "      <th>0</th>\n",
       "      <td>0.0</td>\n",
       "      <td>0.0</td>\n",
       "      <td>0.0</td>\n",
       "      <td>0.0</td>\n",
       "    </tr>\n",
       "    <tr>\n",
       "      <th>1</th>\n",
       "      <td>0.0</td>\n",
       "      <td>0.0</td>\n",
       "      <td>0.0</td>\n",
       "      <td>0.0</td>\n",
       "    </tr>\n",
       "    <tr>\n",
       "      <th>2</th>\n",
       "      <td>0.0</td>\n",
       "      <td>0.0</td>\n",
       "      <td>0.0</td>\n",
       "      <td>0.0</td>\n",
       "    </tr>\n",
       "    <tr>\n",
       "      <th>3</th>\n",
       "      <td>0.0</td>\n",
       "      <td>0.0</td>\n",
       "      <td>0.0</td>\n",
       "      <td>0.0</td>\n",
       "    </tr>\n",
       "    <tr>\n",
       "      <th>4</th>\n",
       "      <td>62.1</td>\n",
       "      <td>10.0</td>\n",
       "      <td>0.0</td>\n",
       "      <td>0.0</td>\n",
       "    </tr>\n",
       "    <tr>\n",
       "      <th>5</th>\n",
       "      <td>71.0</td>\n",
       "      <td>8.9</td>\n",
       "      <td>0.0</td>\n",
       "      <td>0.0</td>\n",
       "    </tr>\n",
       "    <tr>\n",
       "      <th>6</th>\n",
       "      <td>81.0</td>\n",
       "      <td>10.0</td>\n",
       "      <td>39500.0</td>\n",
       "      <td>0.0</td>\n",
       "    </tr>\n",
       "    <tr>\n",
       "      <th>7</th>\n",
       "      <td>101.0</td>\n",
       "      <td>20.0</td>\n",
       "      <td>82800.0</td>\n",
       "      <td>0.0</td>\n",
       "    </tr>\n",
       "    <tr>\n",
       "      <th>8</th>\n",
       "      <td>141.0</td>\n",
       "      <td>40.0</td>\n",
       "      <td>200000.0</td>\n",
       "      <td>0.0</td>\n",
       "    </tr>\n",
       "    <tr>\n",
       "      <th>9</th>\n",
       "      <td>351.0</td>\n",
       "      <td>210.0</td>\n",
       "      <td>220000.0</td>\n",
       "      <td>0.0</td>\n",
       "    </tr>\n",
       "    <tr>\n",
       "      <th>10</th>\n",
       "      <td>910.0</td>\n",
       "      <td>559.0</td>\n",
       "      <td>300000.0</td>\n",
       "      <td>0.0</td>\n",
       "    </tr>\n",
       "    <tr>\n",
       "      <th>11</th>\n",
       "      <td>3110.0</td>\n",
       "      <td>2140.0</td>\n",
       "      <td>0.0</td>\n",
       "      <td>0.0</td>\n",
       "    </tr>\n",
       "  </tbody>\n",
       "</table>\n",
       "</div>"
      ],
      "text/plain": [
       "    cum_solar_capMW  annual_add_solarMW  total_solar_pv_jobs  \\\n",
       "0               0.0                 0.0                  0.0   \n",
       "1               0.0                 0.0                  0.0   \n",
       "2               0.0                 0.0                  0.0   \n",
       "3               0.0                 0.0                  0.0   \n",
       "4              62.1                10.0                  0.0   \n",
       "5              71.0                 8.9                  0.0   \n",
       "6              81.0                10.0              39500.0   \n",
       "7             101.0                20.0              82800.0   \n",
       "8             141.0                40.0             200000.0   \n",
       "9             351.0               210.0             220000.0   \n",
       "10            910.0               559.0             300000.0   \n",
       "11           3110.0              2140.0                  0.0   \n",
       "\n",
       "    total_solar_pv_mnf_jobs  \n",
       "0                       0.0  \n",
       "1                       0.0  \n",
       "2                       0.0  \n",
       "3                       0.0  \n",
       "4                       0.0  \n",
       "5                       0.0  \n",
       "6                       0.0  \n",
       "7                       0.0  \n",
       "8                       0.0  \n",
       "9                       0.0  \n",
       "10                      0.0  \n",
       "11                      0.0  "
      ]
     },
     "execution_count": 27,
     "metadata": {},
     "output_type": "execute_result"
    }
   ],
   "source": [
    "clean_data.loc[clean_data['Country'] == 'China',['cum_solar_capMW','annual_add_solarMW','total_solar_pv_jobs','total_solar_pv_mnf_jobs']]"
   ]
  },
  {
   "cell_type": "code",
   "execution_count": 39,
   "metadata": {},
   "outputs": [
    {
     "name": "stderr",
     "output_type": "stream",
     "text": [
      "C:\\Users\\Anusha\\Anaconda3\\lib\\site-packages\\matplotlib\\axes\\_base.py:2918: UserWarning: Attempting to set identical left==right results\n",
      "in singular transformations; automatically expanding.\n",
      "left=0.0, right=0.0\n",
      "  'left=%s, right=%s') % (left, right))\n",
      "C:\\Users\\Anusha\\Anaconda3\\lib\\site-packages\\matplotlib\\axes\\_base.py:3239: UserWarning: Attempting to set identical bottom==top results\n",
      "in singular transformations; automatically expanding.\n",
      "bottom=0.0, top=0.0\n",
      "  'bottom=%s, top=%s') % (bottom, top))\n"
     ]
    },
    {
     "data": {
      "image/png": "[encoded data removed]",
      "text/plain": [
       "<matplotlib.figure.Figure at 0x1a4dc24bef0>"
      ]
     },
     "metadata": {},
     "output_type": "display_data"
    }
   ],
   "source": [
    "from pandas.plotting import scatter_matrix \n",
    "scatter_matrix(clean_data.loc[clean_data['Country'] == 'China',['cum_solar_capMW','annual_add_solarMW','total_solar_pv_jobs','total_solar_pv_mnf_jobs']])\n",
    "plt.show()"
   ]
  },
  {
   "cell_type": "code",
   "execution_count": 13,
   "metadata": {
    "collapsed": true
   },
   "outputs": [],
   "source": [
    "country_list = clean_data['Country'].unique().tolist()"
   ]
  },
  {
   "cell_type": "code",
   "execution_count": 31,
   "metadata": {},
   "outputs": [
    {
     "data": {
      "text/plain": [
       "list"
      ]
     },
     "execution_count": 31,
     "metadata": {},
     "output_type": "execute_result"
    }
   ],
   "source": [
    "type(country_list)"
   ]
  },
  {
   "cell_type": "code",
   "execution_count": 36,
   "metadata": {},
   "outputs": [
    {
     "name": "stdout",
     "output_type": "stream",
     "text": [
      "Country:China\n",
      "                         cum_solar_capMW  annual_add_solarMW  \\\n",
      "cum_solar_capMW                 1.000000            0.999154   \n",
      "annual_add_solarMW              0.999154            1.000000   \n",
      "total_solar_pv_jobs             0.048463            0.018489   \n",
      "total_solar_pv_mnf_jobs              NaN                 NaN   \n",
      "\n",
      "                         total_solar_pv_jobs  total_solar_pv_mnf_jobs  \n",
      "cum_solar_capMW                     0.048463                      NaN  \n",
      "annual_add_solarMW                  0.018489                      NaN  \n",
      "total_solar_pv_jobs                 1.000000                      NaN  \n",
      "total_solar_pv_mnf_jobs                  NaN                      NaN  \n",
      "Country:Germany\n",
      "                         cum_solar_capMW  annual_add_solarMW  \\\n",
      "cum_solar_capMW                 1.000000            0.978796   \n",
      "annual_add_solarMW              0.978796            1.000000   \n",
      "total_solar_pv_jobs             0.966085            0.977454   \n",
      "total_solar_pv_mnf_jobs              NaN                 NaN   \n",
      "\n",
      "                         total_solar_pv_jobs  total_solar_pv_mnf_jobs  \n",
      "cum_solar_capMW                     0.966085                      NaN  \n",
      "annual_add_solarMW                  0.977454                      NaN  \n",
      "total_solar_pv_jobs                 1.000000                      NaN  \n",
      "total_solar_pv_mnf_jobs                  NaN                      NaN  \n",
      "Country:India\n",
      "                         cum_solar_capMW  annual_add_solarMW  \\\n",
      "cum_solar_capMW                 1.000000            0.999766   \n",
      "annual_add_solarMW              0.999766            1.000000   \n",
      "total_solar_pv_jobs            -0.080534           -0.081668   \n",
      "total_solar_pv_mnf_jobs              NaN                 NaN   \n",
      "\n",
      "                         total_solar_pv_jobs  total_solar_pv_mnf_jobs  \n",
      "cum_solar_capMW                    -0.080534                      NaN  \n",
      "annual_add_solarMW                 -0.081668                      NaN  \n",
      "total_solar_pv_jobs                 1.000000                      NaN  \n",
      "total_solar_pv_mnf_jobs                  NaN                      NaN  \n",
      "Country:Japan\n",
      "                         cum_solar_capMW  annual_add_solarMW  \\\n",
      "cum_solar_capMW                 1.000000            0.941351   \n",
      "annual_add_solarMW              0.941351            1.000000   \n",
      "total_solar_pv_jobs             0.365833            0.346081   \n",
      "total_solar_pv_mnf_jobs         0.308217            0.229458   \n",
      "\n",
      "                         total_solar_pv_jobs  total_solar_pv_mnf_jobs  \n",
      "cum_solar_capMW                     0.365833                 0.308217  \n",
      "annual_add_solarMW                  0.346081                 0.229458  \n",
      "total_solar_pv_jobs                 1.000000                 0.956475  \n",
      "total_solar_pv_mnf_jobs             0.956475                 1.000000  \n",
      "Country:United States\n",
      "                         cum_solar_capMW  annual_add_solarMW  \\\n",
      "cum_solar_capMW                 1.000000            0.996747   \n",
      "annual_add_solarMW              0.996747            1.000000   \n",
      "total_solar_pv_jobs             0.944275            0.921837   \n",
      "total_solar_pv_mnf_jobs         0.301673            0.276316   \n",
      "\n",
      "                         total_solar_pv_jobs  total_solar_pv_mnf_jobs  \n",
      "cum_solar_capMW                     0.944275                 0.301673  \n",
      "annual_add_solarMW                  0.921837                 0.276316  \n",
      "total_solar_pv_jobs                 1.000000                 0.534776  \n",
      "total_solar_pv_mnf_jobs             0.534776                 1.000000  \n"
     ]
    }
   ],
   "source": [
    "for i in country_list:\n",
    "    print('Country:'+ i)\n",
    "    print(clean_data.loc[clean_data['Country'] == i,['cum_solar_capMW','annual_add_solarMW','total_solar_pv_jobs','total_solar_pv_mnf_jobs']].corr())\n",
    "    "
   ]
  },
  {
   "cell_type": "code",
   "execution_count": 41,
   "metadata": {},
   "outputs": [
    {
     "name": "stdout",
     "output_type": "stream",
     "text": [
      "Country:China\n",
      "Country:Germany\n",
      "Country:India\n",
      "Country:Japan\n",
      "Country:United States\n"
     ]
    },
    {
     "data": {
      "image/png": "[encoded data removed]",
      "text/plain": [
       "<matplotlib.figure.Figure at 0x1a4dbe5d048>"
      ]
     },
     "metadata": {},
     "output_type": "display_data"
    },
    {
     "data": {
      "image/png": "[encoded data removed]",
      "text/plain": [
       "<matplotlib.figure.Figure at 0x1a4dc192630>"
      ]
     },
     "metadata": {},
     "output_type": "display_data"
    },
    {
     "data": {
      "image/png": "[encoded data removed]",
      "text/plain": [
       "<matplotlib.figure.Figure at 0x1a4d9b10320>"
      ]
     },
     "metadata": {},
     "output_type": "display_data"
    },
    {
     "data": {
      "image/png": "[encoded data removed]",
      "text/plain": [
       "<matplotlib.figure.Figure at 0x1a4dadf5f28>"
      ]
     },
     "metadata": {},
     "output_type": "display_data"
    },
    {
     "data": {
      "image/png": "[encoded data removed]",
      "text/plain": [
       "<matplotlib.figure.Figure at 0x1a4da09b550>"
      ]
     },
     "metadata": {},
     "output_type": "display_data"
    }
   ],
   "source": [
    "for i in country_list:\n",
    "    print('Country:'+ i)\n",
    "    corr = clean_data.loc[clean_data['Country'] == i,['cum_solar_capMW','annual_add_solarMW','total_solar_pv_jobs','total_solar_pv_mnf_jobs']].corr()\n",
    "\n",
    "    plt.matshow(corr, cmap = 'seismic')"
   ]
  },
  {
   "cell_type": "code",
   "execution_count": 14,
   "metadata": {},
   "outputs": [
    {
     "name": "stdout",
     "output_type": "stream",
     "text": [
      "Country:China\n",
      "                     cum_wind_capMW  annual_add_windMW  total_wind_jobs  \\\n",
      "cum_wind_capMW             1.000000                NaN         0.193855   \n",
      "annual_add_windMW               NaN                NaN              NaN   \n",
      "total_wind_jobs            0.193855                NaN         1.000000   \n",
      "total_wind_mnf_jobs             NaN                NaN              NaN   \n",
      "\n",
      "                     total_wind_mnf_jobs  \n",
      "cum_wind_capMW                       NaN  \n",
      "annual_add_windMW                    NaN  \n",
      "total_wind_jobs                      NaN  \n",
      "total_wind_mnf_jobs                  NaN  \n",
      "Country:Germany\n",
      "                     cum_wind_capMW  annual_add_windMW  total_wind_jobs  \\\n",
      "cum_wind_capMW             1.000000                NaN         0.978889   \n",
      "annual_add_windMW               NaN                NaN              NaN   \n",
      "total_wind_jobs            0.978889                NaN         1.000000   \n",
      "total_wind_mnf_jobs        0.657807                NaN         0.725547   \n",
      "\n",
      "                     total_wind_mnf_jobs  \n",
      "cum_wind_capMW                  0.657807  \n",
      "annual_add_windMW                    NaN  \n",
      "total_wind_jobs                 0.725547  \n",
      "total_wind_mnf_jobs             1.000000  \n",
      "Country:India\n",
      "                     cum_wind_capMW  annual_add_windMW  total_wind_jobs  \\\n",
      "cum_wind_capMW             1.000000                NaN         0.277901   \n",
      "annual_add_windMW               NaN                NaN              NaN   \n",
      "total_wind_jobs            0.277901                NaN         1.000000   \n",
      "total_wind_mnf_jobs             NaN                NaN              NaN   \n",
      "\n",
      "                     total_wind_mnf_jobs  \n",
      "cum_wind_capMW                       NaN  \n",
      "annual_add_windMW                    NaN  \n",
      "total_wind_jobs                      NaN  \n",
      "total_wind_mnf_jobs                  NaN  \n",
      "Country:Japan\n",
      "                     cum_wind_capMW  annual_add_windMW  total_wind_jobs  \\\n",
      "cum_wind_capMW                  1.0                NaN              NaN   \n",
      "annual_add_windMW               NaN                NaN              NaN   \n",
      "total_wind_jobs                 NaN                NaN              NaN   \n",
      "total_wind_mnf_jobs             NaN                NaN              NaN   \n",
      "\n",
      "                     total_wind_mnf_jobs  \n",
      "cum_wind_capMW                       NaN  \n",
      "annual_add_windMW                    NaN  \n",
      "total_wind_jobs                      NaN  \n",
      "total_wind_mnf_jobs                  NaN  \n",
      "Country:United States\n",
      "                     cum_wind_capMW  annual_add_windMW  total_wind_jobs  \\\n",
      "cum_wind_capMW                  1.0                NaN              NaN   \n",
      "annual_add_windMW               NaN                NaN              NaN   \n",
      "total_wind_jobs                 NaN                NaN              NaN   \n",
      "total_wind_mnf_jobs             NaN                NaN              NaN   \n",
      "\n",
      "                     total_wind_mnf_jobs  \n",
      "cum_wind_capMW                       NaN  \n",
      "annual_add_windMW                    NaN  \n",
      "total_wind_jobs                      NaN  \n",
      "total_wind_mnf_jobs                  NaN  \n"
     ]
    }
   ],
   "source": [
    "for i in country_list:\n",
    "    print('Country:'+ i)\n",
    "    print(clean_data.loc[clean_data['Country'] == i,['cum_wind_capMW','annual_add_windMW','total_wind_jobs','total_wind_mnf_jobs']].corr())\n"
   ]
  },
  {
   "cell_type": "code",
   "execution_count": 53,
   "metadata": {},
   "outputs": [
    {
     "data": {
      "text/plain": [
       "<seaborn.axisgrid.FacetGrid at 0x1a4dabfb630>"
      ]
     },
     "execution_count": 53,
     "metadata": {},
     "output_type": "execute_result"
    },
    {
     "data": {
      "image/png": "[encoded data removed]",
      "text/plain": [
       "<matplotlib.figure.Figure at 0x1a4dabfb588>"
      ]
     },
     "metadata": {},
     "output_type": "display_data"
    }
   ],
   "source": [
    "sns.lmplot(x= 'cum_solar_capMW' , y = 'total_solar_pv_jobs' , hue= 'Country', data = clean_data, fit_reg = False)"
   ]
  },
  {
   "cell_type": "code",
   "execution_count": 54,
   "metadata": {},
   "outputs": [
    {
     "data": {
      "text/plain": [
       "<seaborn.axisgrid.FacetGrid at 0x1a4dab34dd8>"
      ]
     },
     "execution_count": 54,
     "metadata": {},
     "output_type": "execute_result"
    },
    {
     "data": {
      "image/png": "[encoded data removed]",
      "text/plain": [
       "<matplotlib.figure.Figure at 0x1a4daba4ac8>"
      ]
     },
     "metadata": {},
     "output_type": "display_data"
    }
   ],
   "source": [
    "sns.lmplot(x= 'cum_solar_capMW' , y = 'total_solar_pv_mnf_jobs' , hue= 'Country', data = clean_data, fit_reg = False)"
   ]
  },
  {
   "cell_type": "markdown",
   "metadata": {},
   "source": [
    "The plots show that the increase in solar PV  jobs was linear(0.966 correlation) to the cumulative installed capacity in Germany and United States(0.944) . Though  China had the greatest number of solar PV jobs , the increase in the jobs was not proportion to the cumulative installed capacity . This probably indicated China's role in the export of solar PV cells. \n",
    "With regards to solar PV manufacturing jobs , linearity with cumulative installed capacity is observed only in Japan(0.308) and followed by United States (0.301) . Though Germany had the highest cumulative solar installed capaicity , the solar pv manufacuring jobs are zero , indicating import . "
   ]
  },
  {
   "cell_type": "code",
   "execution_count": 55,
   "metadata": {},
   "outputs": [
    {
     "data": {
      "text/plain": [
       "<seaborn.axisgrid.FacetGrid at 0x1a4da206da0>"
      ]
     },
     "execution_count": 55,
     "metadata": {},
     "output_type": "execute_result"
    },
    {
     "data": {
      "image/png": "[encoded data removed]",
      "text/plain": [
       "<matplotlib.figure.Figure at 0x1a4da2068d0>"
      ]
     },
     "metadata": {},
     "output_type": "display_data"
    }
   ],
   "source": [
    "sns.lmplot(x= 'cum_wind_capMW' , y = 'total_wind_jobs' , hue= 'Country', data = clean_data, fit_reg = False)"
   ]
  },
  {
   "cell_type": "code",
   "execution_count": 56,
   "metadata": {},
   "outputs": [
    {
     "data": {
      "text/plain": [
       "<seaborn.axisgrid.FacetGrid at 0x1a4dbe66da0>"
      ]
     },
     "execution_count": 56,
     "metadata": {},
     "output_type": "execute_result"
    },
    {
     "data": {
      "image/png": "[encoded data removed]",
      "text/plain": [
       "<matplotlib.figure.Figure at 0x1a4dbe66048>"
      ]
     },
     "metadata": {},
     "output_type": "display_data"
    }
   ],
   "source": [
    "sns.lmplot(x= 'cum_wind_capMW' , y = 'total_wind_mnf_jobs' , hue= 'Country', data = clean_data, fit_reg = False)"
   ]
  },
  {
   "cell_type": "markdown",
   "metadata": {},
   "source": [
    "Germany is a clear leader in the wind jobs and wind manufacturing jobs and has a proportional increase in wind capacity (0.9) . Though China has the maximum installed capacity in wind energy , does it rely on import ??"
   ]
  },
  {
   "cell_type": "code",
   "execution_count": null,
   "metadata": {
    "collapsed": true
   },
   "outputs": [],
   "source": [
    "SE4ALL database, IEA and World Bank . https://datacatalog.worldbank.org/dataset/sustainable-energy-all"
   ]
  }
 ],
 "metadata": {
  "kernelspec": {
   "display_name": "Python 3",
   "language": "python",
   "name": "python3"
  },
  "language_info": {
   "codemirror_mode": {
    "name": "ipython",
    "version": 3
   },
   "file_extension": ".py",
   "mimetype": "text/x-python",
   "name": "python",
   "nbconvert_exporter": "python",
   "pygments_lexer": "ipython3",
   "version": "3.6.3"
  }
 },
 "nbformat": 4,
 "nbformat_minor": 2
}
